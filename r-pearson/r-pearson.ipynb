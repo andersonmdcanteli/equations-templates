{
 "cells": [
  {
   "cell_type": "markdown",
   "id": "baeab957-7c77-4359-8490-d1196b9bb15d",
   "metadata": {},
   "source": [
    "# r de Pearson ( $r_{pearson}$ )\n",
    "\n",
    "$$r_{pearson} = \\frac{\\sum_{i=1}^n \\left(x_i - \\overline{x}\\right) \\left(y_i - \\overline{y}\\right)}{\\sqrt{\\sum_{i=1}^n \\left( x_i - \\overline{x}\\right)^2 \\sum_{i=1}^n \\left( y_i - \\overline{y}\\right)^2}}$$\n",
    "\n",
    "onde\n",
    "- $x_i$ é a i-ésima observação da variável independente;\n",
    "- $\\overline{x}$ é a média da variável independente;\n",
    "- $y_i$ é a i-ésima observação da variável dependente;\n",
    "- $\\overline{y}$ é a média da variável dependente;\n",
    "- $n$ é o número total de observações;\n"
   ]
  },
  {
   "cell_type": "markdown",
   "id": "586ee891-8613-4e22-b967-3566110b1eac",
   "metadata": {},
   "source": [
    "## Código"
   ]
  },
  {
   "cell_type": "code",
   "execution_count": null,
   "id": "c76fb7a3-c4da-471a-9190-b69010d486d0",
   "metadata": {},
   "outputs": [],
   "source": [
    "# r de Pearson ( $r_{pearson}$ )\n",
    "\n",
    "$$r_{pearson} = \\frac{\\sum_{i=1}^n \\left(x_i - \\overline{x}\\right) \\left(y_i - \\overline{y}\\right)}{\\sqrt{\\sum_{i=1}^n \\left( x_i - \\overline{x}\\right)^2 \\sum_{i=1}^n \\left( y_i - \\overline{y}\\right)^2}}$$\n",
    "\n",
    "onde\n",
    "- $x_i$ é a i-ésima observação da variável independente;\n",
    "- $\\overline{x}$ é a média da variável independente;\n",
    "- $y_i$ é a i-ésima observação da variável dependente;\n",
    "- $\\overline{y}$ é a média da variável dependente;\n",
    "- $n$ é o número total de observações;"
   ]
  },
  {
   "cell_type": "markdown",
   "id": "6fa9724d-abbb-45c7-bcde-3396ab4ddde6",
   "metadata": {},
   "source": [
    "# r de Pearson na escala transformada ( $\\mu_{Z}$ )\n",
    "\n",
    "$$\\mu_{Z} = \\textrm{arctanh} \\left({r_{pearson}}\\right) = \\frac{1}{2} \\ln{\\left( \\frac{1 + r_{pearson}}{1 - r_{pearson}} \\right)}$$\n",
    "\n"
   ]
  },
  {
   "cell_type": "markdown",
   "id": "8b9819b0-1234-45c4-8c8d-80ab597713cf",
   "metadata": {},
   "source": [
    "## Código"
   ]
  },
  {
   "cell_type": "markdown",
   "id": "a598a619-c689-459c-b7e8-06a9ee2bfe61",
   "metadata": {},
   "source": [
    "# r de Pearson na escala transformada ( $\\mu_{Z}$ )\n",
    "\n",
    "$$\\mu_{Z} = \\textrm{arctanh} \\left({r_{pearson}}\\right) = \\frac{1}{2} \\ln{\\left( \\frac{1 + r_{pearson}}{1 - r_{pearson}} \\right)}$$"
   ]
  },
  {
   "cell_type": "markdown",
   "id": "019f641c-9c4e-4eeb-8810-2b0fa9b67a9f",
   "metadata": {},
   "source": [
    "# Desvio padrão na escala transformada ($\\sigma_{Z}$)\n",
    "\n",
    "$$\\sigma_{Z} = \\sqrt{\\frac{1}{n-3}}$$\n",
    "\n",
    "onde:\n",
    "- $n$ é o número total de observações;"
   ]
  },
  {
   "cell_type": "markdown",
   "id": "0409704a-417d-44c0-bf12-45aa01efb0b3",
   "metadata": {},
   "source": [
    "## Código"
   ]
  },
  {
   "cell_type": "code",
   "execution_count": null,
   "id": "b3d1ffe3-bc17-40d6-a43f-4ad918a8b692",
   "metadata": {},
   "outputs": [],
   "source": [
    "# Desvio padrão na escala transformada ($\\sigma_{Z}$)\n",
    "\n",
    "$$\\sigma_{Z} = \\sqrt{\\frac{1}{n-3}}$$\n",
    "\n",
    "onde:\n",
    "- $n$ é o número total de observações;"
   ]
  },
  {
   "cell_type": "markdown",
   "id": "13462bd6-3009-48e5-85b8-1f19aecb4974",
   "metadata": {},
   "source": [
    "# Intervalo de confiança\n",
    "\n",
    "## Inferior ($LI_{pearson}$)\n",
    "\n",
    "$$LI_{pearson} = \\tanh{\\left(\\textrm{arctanh} \\left({r_{pearson}}\\right) - \\frac{Z_{1-\\alpha /2}}{\\sqrt{n-3}}\\right)}$$\n",
    "\n",
    "## Superior ($LS_{pearson}$)\n",
    "\n",
    "$$LS_{pearson} = \\tanh{\\left(\\textrm{arctanh} \\left({r_{pearson}}\\right) + \\frac{Z_{1-\\alpha /2}}{\\sqrt{n-3}}\\right)}$$\n",
    "\n",
    "onde:\n",
    "- $n$ é o número total de observações;\n",
    "- $Z_{1-\\alpha /2}$ é o valor crítico da distribuição Normal;\n"
   ]
  },
  {
   "cell_type": "markdown",
   "id": "d75e9a9c-45db-4734-bdd8-55fefb354444",
   "metadata": {},
   "source": [
    "## Código"
   ]
  },
  {
   "cell_type": "code",
   "execution_count": null,
   "id": "6170a473-7f9c-4c64-adf8-0b3242995509",
   "metadata": {},
   "outputs": [],
   "source": [
    "# Intervalo de confiança\n",
    "\n",
    "## Inferior ($LI_{pearson}$)\n",
    "\n",
    "$$LI_{pearson} = \\tanh{\\left(\\textrm{arctanh} \\left({r_{pearson}}\\right) - \\frac{Z_{1-\\alpha /2}}{\\sqrt{n-3}}\\right)}$$\n",
    "\n",
    "## Superior ($LS_{pearson}$)\n",
    "\n",
    "$$LS_{pearson} = \\tanh{\\left(\\textrm{arctanh} \\left({r_{pearson}}\\right) + \\frac{Z_{1-\\alpha /2}}{\\sqrt{n-3}}\\right)}$$\n",
    "\n",
    "onde:\n",
    "- $n$ é o número total de observações;\n",
    "- $Z_{1-\\alpha /2}$ é o valor crítico da distribuição Normal;\n"
   ]
  }
 ],
 "metadata": {
  "kernelspec": {
   "display_name": "Python 3 (ipykernel)",
   "language": "python",
   "name": "python3"
  },
  "language_info": {
   "codemirror_mode": {
    "name": "ipython",
    "version": 3
   },
   "file_extension": ".py",
   "mimetype": "text/x-python",
   "name": "python",
   "nbconvert_exporter": "python",
   "pygments_lexer": "ipython3",
   "version": "3.9.10"
  }
 },
 "nbformat": 4,
 "nbformat_minor": 5
}
