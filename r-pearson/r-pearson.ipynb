{
 "cells": [
  {
   "cell_type": "markdown",
   "id": "baeab957-7c77-4359-8490-d1196b9bb15d",
   "metadata": {},
   "source": [
    "# r de Pearson ( $r_{pearson}$ )\n",
    "\n",
    "$$r_{pearson} = \\frac{\\sum_{i=1}^n \\left(x_i - \\overline{x}\\right) \\left(y_i - \\overline{y}\\right)}{\\sqrt{\\sum_{i=1}^n \\left( x_i - \\overline{x}\\right)^2 \\sum_{i=1}^n \\left( y_i - \\overline{y}\\right)^2}}$$\n",
    "\n",
    "onde\n",
    "- $x_i$ é a i-ésima observação da variável independente;\n",
    "- $\\overline{x}$ é a média da variável independente;\n",
    "- $y_i$ é a i-ésima observação da variável dependente;\n",
    "- $\\overline{y}$ é a média da variável dependente;\n",
    "- $n$ é o número total de observações;\n"
   ]
  },
  {
   "cell_type": "markdown",
   "id": "586ee891-8613-4e22-b967-3566110b1eac",
   "metadata": {},
   "source": [
    "## Código"
   ]
  },
  {
   "cell_type": "code",
   "execution_count": null,
   "id": "753d6078-26b3-4dc7-a19d-0573f64d075f",
   "metadata": {},
   "outputs": [],
   "source": [
    "# r de Pearson ( $r_{pearson}$ )\n",
    "\n",
    "$$r_{pearson} = \\frac{\\sum_{i=1}^n \\left(x_i - \\overline{x}\\right) \\left(y_i - \\overline{y}\\right)}{\\sqrt{\\sum_{i=1}^n \\left( x_i - \\overline{x}\\right)^2 \\sum_{i=1}^n \\left( y_i - \\overline{y}\\right)^2}}$$\n",
    "\n",
    "onde\n",
    "- $x_i$ é a i-ésima observação da variável independente;\n",
    "- $\\overline{x}$ é a média da variável independente;\n",
    "- $y_i$ é a i-ésima observação da variável dependente;\n",
    "- $\\overline{y}$ é a média da variável dependente;\n",
    "- $n$ é o número total de observações;"
   ]
  }
 ],
 "metadata": {
  "kernelspec": {
   "display_name": "Python 3 (ipykernel)",
   "language": "python",
   "name": "python3"
  },
  "language_info": {
   "codemirror_mode": {
    "name": "ipython",
    "version": 3
   },
   "file_extension": ".py",
   "mimetype": "text/x-python",
   "name": "python",
   "nbconvert_exporter": "python",
   "pygments_lexer": "ipython3",
   "version": "3.9.10"
  }
 },
 "nbformat": 4,
 "nbformat_minor": 5
}
