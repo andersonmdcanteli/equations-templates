{
 "cells": [
  {
   "cell_type": "markdown",
   "id": "57dc253d-1374-4927-b2f8-4b30f581a93a",
   "metadata": {},
   "source": [
    "# Distribuição Normal Padrão\n",
    "\n",
    "$$f \\left( x \\right) = \\frac{1}{\\sigma \\sqrt{2 \\pi}} e^{-\\frac{1}{2} \\left(\\frac{x- \\mu}{\\sigma} \\right)^{2}}$$\n",
    "\n",
    "onde:\n",
    "- $\\mu$: é a média populacional;\n",
    "- $\\sigma$: é o desvio padrão populacional;"
   ]
  },
  {
   "cell_type": "markdown",
   "id": "f143f0c1-21cf-4fd7-aa20-0f8be59b6adc",
   "metadata": {},
   "source": [
    "## Código"
   ]
  },
  {
   "cell_type": "code",
   "execution_count": null,
   "id": "43314b84-20d6-4697-baad-071fe783144f",
   "metadata": {},
   "outputs": [],
   "source": [
    "# Distribuição Normal Padrão\n",
    "\n",
    "$$f \\left( x \\right) = \\frac{1}{\\sigma \\sqrt{2 \\pi}} e^{-\\frac{1}{2} \\left(\\frac{x- \\mu}{\\sigma} \\right)^{2}}$$\n",
    "\n",
    "onde:\n",
    "- $\\mu$: é a média populacional;\n",
    "- $\\sigma$: é o desvio padrão populacional;"
   ]
  },
  {
   "cell_type": "markdown",
   "id": "b73ca8dd-7cea-4e7f-908b-1c2235d4afeb",
   "metadata": {},
   "source": [
    "# Distribuição Normal Padrão\n",
    "\n",
    "$$f \\left( x \\right) = \\frac{e^{-\\frac{1}{2} \\left(\\frac{x- \\mu}{\\sigma} \\right)^{2}}}{\\sigma \\sqrt{2 \\pi}}$$\n",
    "\n",
    "onde:\n",
    "- $\\mu$: é a média populacional;\n",
    "- $\\sigma$: é o desvio padrão populacional;"
   ]
  },
  {
   "cell_type": "markdown",
   "id": "b444b2c7-f4eb-4d26-b7d7-ebb71b3c0c33",
   "metadata": {},
   "source": [
    "## Código"
   ]
  },
  {
   "cell_type": "code",
   "execution_count": null,
   "id": "3ba0b763-d29a-4513-84bf-f0267287a0d7",
   "metadata": {},
   "outputs": [],
   "source": [
    "# Distribuição Normal Padrão\n",
    "\n",
    "$$f \\left( x \\right) = \\frac{e^{-\\frac{1}{2} \\left(\\frac{x- \\mu}{\\sigma} \\right)^{2}}}{\\sigma \\sqrt{2 \\pi}}$$\n",
    "\n",
    "onde:\n",
    "- $\\mu$: é a média populacional;\n",
    "- $\\sigma$: é o desvio padrão populacional;"
   ]
  }
 ],
 "metadata": {
  "kernelspec": {
   "display_name": "Python 3 (ipykernel)",
   "language": "python",
   "name": "python3"
  },
  "language_info": {
   "codemirror_mode": {
    "name": "ipython",
    "version": 3
   },
   "file_extension": ".py",
   "mimetype": "text/x-python",
   "name": "python",
   "nbconvert_exporter": "python",
   "pygments_lexer": "ipython3",
   "version": "3.9.10"
  }
 },
 "nbformat": 4,
 "nbformat_minor": 5
}
