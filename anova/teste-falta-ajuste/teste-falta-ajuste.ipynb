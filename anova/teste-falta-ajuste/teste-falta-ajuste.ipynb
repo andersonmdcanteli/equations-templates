{
 "cells": [
  {
   "cell_type": "markdown",
   "id": "79446296-372c-4920-9b41-3aee4e34af56",
   "metadata": {},
   "source": [
    "# Teste para falta de ajuste"
   ]
  },
  {
   "cell_type": "markdown",
   "id": "ed90e428-b9ee-40df-8209-5a412cd9f24e",
   "metadata": {},
   "source": [
    "## Hipóteses\n",
    "\n",
    "* $H_{0}:$ a fonte de erro do modelo é devida aos erros aleatórios;\n",
    "* $H_{1}:$ a fonte de erro do modelo é devida a erros de ajustamento;"
   ]
  },
  {
   "cell_type": "markdown",
   "id": "1469dd1f-46e6-4f67-af43-6c6158dabde4",
   "metadata": {},
   "source": [
    "### Código"
   ]
  },
  {
   "cell_type": "code",
   "execution_count": null,
   "id": "c73ac610-fbeb-4e5f-bf60-a1fdcb86f61e",
   "metadata": {},
   "outputs": [],
   "source": [
    "## Hipóteses\n",
    "\n",
    "* $H_{0}:$ a fonte de erro do modelo é devida aos erros aleatórios;\n",
    "* $H_{1}:$ a fonte de erro do modelo é devida a erros de ajustamento;"
   ]
  },
  {
   "cell_type": "markdown",
   "id": "6aeab9ad-c8cb-4bc5-ac20-1b1f660f0705",
   "metadata": {},
   "source": [
    "## Estatística do teste ($Fcalc_{falta \\, ajuste}$)\n",
    "\n",
    "\n",
    "$$Fcalc_{falta \\, ajuste} = \\frac{MSQFA}{MSQEP}$$\n",
    "\n",
    "onde:\n",
    "* $MSQFA$ é a média do somatório dos quadrados da falta de ajuste;\n",
    "* $MSQEP$ é a média do somatório dos quadrados do erro puro;\n"
   ]
  },
  {
   "cell_type": "markdown",
   "id": "f52447a0-a1a8-42d0-962e-1e968fbe2a75",
   "metadata": {},
   "source": [
    "### Código"
   ]
  },
  {
   "cell_type": "code",
   "execution_count": null,
   "id": "a529b01c-9553-4b08-b383-437974eccbcc",
   "metadata": {},
   "outputs": [],
   "source": [
    "## Estatística do teste ($Fcalc_{falta \\, ajuste}$)\n",
    "\n",
    "\n",
    "$$Fcalc_{falta \\, ajuste} = \\frac{MSQFA}{MSQEP}$$\n",
    "\n",
    "onde:\n",
    "* $MSQFA$ é a média do somatório dos quadrados da falta de ajuste;\n",
    "* $MSQEP$ é a média do somatório dos quadrados do erro puro;"
   ]
  },
  {
   "cell_type": "markdown",
   "id": "3f0c66ad-90d6-45dd-8951-06b3331cae3e",
   "metadata": {},
   "source": [
    "## Estatística do teste ($Fcalc_{falta \\, ajuste}$)\n",
    "\n",
    "$$Fcalc_{falta \\, ajuste} = \\frac{\\frac{\\sum_{i=1}^{a} \\sum_{j=1}^{n_{i}} \\left( \\widehat{y}_{ij} - \\overline{y_{i}} \\right)^{2}}{a - n_{param}}}{\\frac{\\sum_{i=1}^{a} \\sum_{j=1}^{n_{i}} \\left( y_{i,j} - \\overline{y_{i}} \\right)^{2}}{n - a}}$$\n",
    "\n",
    "\n",
    "onde:\n",
    "* $a$ é o número de grupos;\n",
    "* $n_{i}$ é o número de observações do grupo $i$;\n",
    "* $\\widehat{y_{ij}}$ é o valor predito para a i-ésima observação obtida para $x_{i}$;\n",
    "* $\\overline{y_{i}}$ é a média do grupo $i$;\n",
    "* $n_{param}$ é o número de parâmetros do modelo;\n",
    "* $n$ é o número total de observações;\n",
    "* $y_{i}$ é a i-ésima observação obtida em $x_{i}$;\n"
   ]
  },
  {
   "cell_type": "markdown",
   "id": "468ba06e-13f1-4a0b-8340-21f0e5bcad67",
   "metadata": {},
   "source": [
    "### Código"
   ]
  },
  {
   "cell_type": "code",
   "execution_count": null,
   "id": "d21a1315-f0d2-471c-ab63-b2b134a1c1bc",
   "metadata": {},
   "outputs": [],
   "source": [
    "## Estatística do teste ($Fcalc_{falta \\, ajuste}$)\n",
    "\n",
    "$$Fcalc_{falta \\, ajuste} = \\frac{\\frac{\\sum_{i=1}^{a} \\sum_{j=1}^{n_{i}} \\left( \\widehat{y}_{ij} - \\overline{y_{i}} \\right)^{2}}{a - n_{param}}}{\\frac{\\sum_{i=1}^{a} \\sum_{j=1}^{n_{i}} \\left( y_{i,j} - \\overline{y_{i}} \\right)^{2}}{n - a}}$$\n",
    "\n",
    "\n",
    "onde:\n",
    "* $a$ é o número de grupos;\n",
    "* $n_{i}$ é o número de observações do grupo $i$;\n",
    "* $\\widehat{y_{ij}}$ é o valor predito para a i-ésima observação obtida para $x_{i}$;\n",
    "* $\\overline{y_{i}}$ é a média do grupo $i$;\n",
    "* $n_{param}$ é o número de parâmetros do modelo;\n",
    "* $n$ é o número total de observações;\n",
    "* $y_{i}$ é a i-ésima observação obtida em $x_{i}$;"
   ]
  },
  {
   "cell_type": "markdown",
   "id": "330045fb-2278-444f-a241-8588f3742f45",
   "metadata": {
    "tags": []
   },
   "source": [
    "## Valor crítico ($Ftab_{falta \\, ajuste}$)\n",
    "\n",
    "$$Ftab_{falta \\, ajuste} = F_{1-\\alpha; \\, a-n_{param}; \\, n-a}$$\n",
    "\n",
    "Obtido da distribuição F unilateral à direita com $a-n_{param}$ e $n-a$ graus de liberdade.\n",
    "\n",
    "onde:\n",
    "* $a$ é o número de grupos;\n",
    "* $n_{param}$ é o número de parâmetros do modelo;\n",
    "* $n$ é o número total de observações;"
   ]
  },
  {
   "cell_type": "markdown",
   "id": "bdfdaf26-26df-4d92-b3d6-e97cbd21abcb",
   "metadata": {},
   "source": [
    "### Código"
   ]
  },
  {
   "cell_type": "code",
   "execution_count": null,
   "id": "e2a3934e-41cf-4c60-bcb0-b78ea67af468",
   "metadata": {},
   "outputs": [],
   "source": [
    "## Valor crítico ($Ftab_{falta \\, ajuste}$)\n",
    "\n",
    "$$Ftab_{falta \\, ajuste} = F_{1-\\alpha; \\, a-n_{param}; \\, n-a}$$\n",
    "\n",
    "Obtido da distribuição F unilateral à direita com $a-n_{param}$ e $n-a$ graus de liberdade.\n",
    "\n",
    "onde:\n",
    "* $a$ é o número de grupos;\n",
    "* $n_{param}$ é o número de parâmetros do modelo;\n",
    "* $n$ é o número total de observações;\n",
    "* $\\alpha$ é o nível de significância adotado;"
   ]
  },
  {
   "cell_type": "markdown",
   "id": "4063d56c-7f5a-47d3-8d34-f70a23f9e472",
   "metadata": {},
   "source": [
    "## Conclusão do teste utilizando o $pvalor$\n",
    "\n",
    "* Se $pvalor < \\alpha$ rejeita $H_{0}$;\n",
    "* Se $pvalor \\geq \\alpha$ falha em rejeitar $H_{0}$;"
   ]
  },
  {
   "cell_type": "markdown",
   "id": "3df8c7bc-d988-4bd6-9397-8c344575d2b8",
   "metadata": {},
   "source": [
    "### Código"
   ]
  },
  {
   "cell_type": "code",
   "execution_count": null,
   "id": "5b3e18e8-c9b0-4bb4-9564-f6f51396638d",
   "metadata": {},
   "outputs": [],
   "source": [
    "## Conclusão do teste utilizando o $pvalor$\n",
    "\n",
    "* Se $pvalor < \\alpha$ rejeita $H_{0}$;\n",
    "* Se $pvalor \\geq \\alpha$ falha em rejeitar $H_{0}$;"
   ]
  },
  {
   "cell_type": "markdown",
   "id": "be5ffeda-960d-440d-95a3-1af6cb872e56",
   "metadata": {},
   "source": [
    "## Conclusão do teste utilizando a estatística ($Fcalc_{falta \\, ajuste}$)\n",
    "\n",
    "\n",
    "* Se $Fcalc_{falta \\, ajuste} > F_{1-\\alpha; \\, a-n_{param}; \\, n-a}$ rejeita $H_{0}$;\n",
    "* Se $Fcalc_{falta \\, ajuste} \\leq F_{1-\\alpha; \\, a-n_{param}; \\, n-a}$ falha em rejeitar $H_{0}$;"
   ]
  },
  {
   "cell_type": "markdown",
   "id": "1dfb15ac-e533-4477-a19d-c03c8872e726",
   "metadata": {},
   "source": [
    "### Código"
   ]
  },
  {
   "cell_type": "code",
   "execution_count": null,
   "id": "5c9e0f0e-bf01-4c3f-b0db-400573fd4a67",
   "metadata": {},
   "outputs": [],
   "source": [
    "## Conclusão do teste utilizando a estatística ($Fcalc_{falta \\, ajuste}$)\n",
    "\n",
    "\n",
    "* Se $Fcalc_{falta \\, ajuste} > F_{1-\\alpha; \\, a-n_{param}; \\, n-a}$ rejeita $H_{0}$;\n",
    "* Se $Fcalc_{falta \\, ajuste} \\leq F_{1-\\alpha; \\, a-n_{param}; \\, n-a}$ falha em rejeitar $H_{0}$;"
   ]
  }
 ],
 "metadata": {
  "kernelspec": {
   "display_name": "Python 3 (ipykernel)",
   "language": "python",
   "name": "python3"
  },
  "language_info": {
   "codemirror_mode": {
    "name": "ipython",
    "version": 3
   },
   "file_extension": ".py",
   "mimetype": "text/x-python",
   "name": "python",
   "nbconvert_exporter": "python",
   "pygments_lexer": "ipython3",
   "version": "3.9.10"
  }
 },
 "nbformat": 4,
 "nbformat_minor": 5
}
