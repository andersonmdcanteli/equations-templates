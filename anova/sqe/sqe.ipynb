{
 "cells": [
  {
   "cell_type": "markdown",
   "id": "bb3a856c-04ef-42c4-8594-1c85a55d6c14",
   "metadata": {},
   "source": [
    "# Somatório dos quadrados dos erros ($SQE$)\n",
    "\n",
    "$$SQE = \\sum_{i=1}^{n} \\left(\\widehat{y}_{i} - y_{i} \\right)^{2}$$\n",
    "\n",
    "onde:\n",
    "* $n$ é o número total de observações;\n",
    "* $y_{i}$ é a i-ésima observação obtida em $x_{i}$;\n",
    "* $\\widehat{y}_{i}$ é o valor predito pelo modelo para a i-ésima observação obtida em $x_{i}$"
   ]
  },
  {
   "cell_type": "markdown",
   "id": "d7b5065b-505c-4840-8391-1465ef9bba6c",
   "metadata": {},
   "source": [
    "## Código"
   ]
  },
  {
   "cell_type": "code",
   "execution_count": null,
   "id": "7116a99f-d439-453e-b194-eb74ce1569a0",
   "metadata": {},
   "outputs": [],
   "source": [
    "# Somatório dos quadrados dos erros ($SQE$)\n",
    "\n",
    "$$SQE = \\sum_{i=1}^{n} \\left(\\widehat{y}_{i} - y_{i} \\right)^{2}$$\n",
    "\n",
    "onde:\n",
    "* $n$ é o número total de observações;\n",
    "* $y_{i}$ é a i-ésima observação obtida em $x_{i}$;\n",
    "* $\\widehat{y}_i$ é o valor predito pelo modelo para a i-ésima observação obtida em $x_{i}$"
   ]
  },
  {
   "cell_type": "markdown",
   "id": "3964c298-f82d-4d47-a5d1-5d59b12fa4c7",
   "metadata": {
    "tags": []
   },
   "source": [
    "# Grau de liberdade dos quadrados dos erros ($gl_{erros}$)\n",
    "\n",
    "$$gl_{erros}=n-n_{p}$$\n",
    "\n",
    "onde:\n",
    "* $n$ é o número total de observações;\n",
    "* $n_{p}$ é o número de parâmetros do modelo;"
   ]
  },
  {
   "cell_type": "markdown",
   "id": "25a2279c-7bb5-402a-86e7-1d25c72ab27e",
   "metadata": {},
   "source": [
    "## Código"
   ]
  },
  {
   "cell_type": "code",
   "execution_count": null,
   "id": "6aae1eff-99fa-469c-9de1-ed6895462ed4",
   "metadata": {},
   "outputs": [],
   "source": [
    "# Grau de liberdade dos quadrados dos erros ($gl_{erros}$)\n",
    "\n",
    "$$gl_{erros}=n-n_{p}$$\n",
    "\n",
    "onde:\n",
    "* $n$ é o número total de observações;\n",
    "* $n_{p}$ é o número de parâmetros do modelo;"
   ]
  },
  {
   "cell_type": "markdown",
   "id": "1a688bb8-f6c8-43df-ac3c-9544f593adf5",
   "metadata": {},
   "source": [
    "# Média dos quadrados dos erros ($MSQE$)\n",
    "\n",
    "$$MSQE=\\frac{SQE}{gl_{errors}}$$\n",
    "\n",
    "onde:\n",
    "* $SQE$ é o somatório dos quadrados dos erros;\n",
    "* $gl_{erros}$ é o grau de liberdade do somatório dos quadrados dos erros;"
   ]
  },
  {
   "cell_type": "markdown",
   "id": "4b82a495-6aee-497a-bcfd-b3b0e766661f",
   "metadata": {},
   "source": [
    "## Código"
   ]
  },
  {
   "cell_type": "code",
   "execution_count": null,
   "id": "2c2b7936-5e82-42c2-a716-ab19a12f4dcc",
   "metadata": {},
   "outputs": [],
   "source": [
    "# Média dos quadrados dos erros ($MSQE$)\n",
    "\n",
    "$$MSQE=\\frac{SQE}{gl_{errors}}$$\n",
    "\n",
    "onde:\n",
    "* $SQE$ é o somatório dos quadrados dos erros;\n",
    "* $gl_{erros}$ é o grau de liberdade do somatório dos quadrados dos erros;"
   ]
  },
  {
   "cell_type": "markdown",
   "id": "815a1f58-e090-4f50-8c36-c2f0f45d25f1",
   "metadata": {},
   "source": [
    "# Média dos quadrados dos erros ($MSQE$)\n",
    "\n",
    "$$MSQE=\\frac{\\sum_{i=1}^{n} \\left(\\widehat{y}_{i} - y_{i} \\right)^{2}}{n-n_{p}}$$\n",
    "\n",
    "onde:\n",
    "* $n$ é o número total de observações;\n",
    "* $y_{i}$ é a i-ésima observação obtida em $x_{i}$;\n",
    "* $\\widehat{y}_{i}$ é o valor predito pelo modelo para a i-ésima observação obtida em $x_{i}$\n",
    "* $n_{p}$ é o número de parâmetros do modelo;"
   ]
  },
  {
   "cell_type": "markdown",
   "id": "564c9e0d-b122-41d0-a8cf-2328a821fcb1",
   "metadata": {},
   "source": [
    "## Código"
   ]
  },
  {
   "cell_type": "code",
   "execution_count": null,
   "id": "3a75972e-53ad-4a8e-95a3-8be7a8a8862b",
   "metadata": {},
   "outputs": [],
   "source": [
    "# Média dos quadrados dos erros ($MSQE$)\n",
    "\n",
    "$$MSQE=\\frac{\\sum_{i=1}^{n} \\left(\\widehat{y}_{i} - y_{i} \\right)^{2}}{n-n_{p}}$$\n",
    "\n",
    "onde:\n",
    "* $n$ é o número total de observações;\n",
    "* $y_{i}$ é a i-ésima observação obtida em $x_{i}$;\n",
    "* $\\widehat{y}_{i}$ é o valor predito pelo modelo para a i-ésima observação obtida em $x_{i}$\n",
    "* $n_{p}$ é o número de parâmetros do modelo;"
   ]
  }
 ],
 "metadata": {
  "kernelspec": {
   "display_name": "Python 3 (ipykernel)",
   "language": "python",
   "name": "python3"
  },
  "language_info": {
   "codemirror_mode": {
    "name": "ipython",
    "version": 3
   },
   "file_extension": ".py",
   "mimetype": "text/x-python",
   "name": "python",
   "nbconvert_exporter": "python",
   "pygments_lexer": "ipython3",
   "version": "3.9.10"
  }
 },
 "nbformat": 4,
 "nbformat_minor": 5
}
