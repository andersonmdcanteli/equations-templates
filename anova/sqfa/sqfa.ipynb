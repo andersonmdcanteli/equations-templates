{
 "cells": [
  {
   "cell_type": "markdown",
   "id": "e0fa4a08-ed66-48a7-99e0-92611d64962a",
   "metadata": {},
   "source": [
    "# Somatório dos quadrados da falta de ajuste ($SQFA$)\n",
    "\n",
    "$$SQFA = \\sum_{i=1}^{a} \\sum_{j=1}^{n_{i}} \\left( \\widehat{y}_{ij} - \\overline{y_{i}} \\right)^{2}$$\n",
    "\n",
    "onde:\n",
    "* $n_{i}$ é o número de observações do grupo $i$;\n",
    "* $a$ é o número de grupos;\n",
    "* $\\widehat{y_{ij}}$ é o valor predito para a i-ésima observação obtida para $x_{i}$;\n",
    "* $\\overline{y_{i}}$ é a média do grupo $i$;"
   ]
  },
  {
   "cell_type": "markdown",
   "id": "633d6623-dee3-4670-a272-e1c274eef558",
   "metadata": {},
   "source": [
    "## Código"
   ]
  },
  {
   "cell_type": "code",
   "execution_count": null,
   "id": "053fa8ba-f04a-49f6-8c62-8dc5c1f42f4e",
   "metadata": {},
   "outputs": [],
   "source": [
    "# Somatório dos quadrados da falta de ajuste ($SQFA$)\n",
    "\n",
    "$$SQFA = \\sum_{i=1}^{a} \\sum_{j=1}^{n_{i}} \\left( \\widehat{y}_{ij} - \\overline{y_{i}} \\right)^{2}$$\n",
    "\n",
    "onde:\n",
    "* $n_{i}$ é o número de observações do grupo $i$;\n",
    "* $a$ é o número de grupos;\n",
    "* $\\widehat{y_{ij}}$ é o valor predito para a i-ésima observação obtida para $x_{i}$;\n",
    "* $\\overline{y_{i}}$ é a média do grupo $i$;"
   ]
  },
  {
   "cell_type": "markdown",
   "id": "f729d041-79a7-4a5d-a97e-c8340096c8f0",
   "metadata": {},
   "source": [
    "# Grau de liberdade dos quadrados da falta de ajuste ($gl_{falta \\, ajuste}$)\n",
    "\n",
    "$$gl_{falta \\, ajuste} = a - n_{param}$$\n",
    "\n",
    "onde:\n",
    "* $a$ é o número de grupos;\n",
    "* $n_{param}$ é o número de parâmetros do modelo;"
   ]
  },
  {
   "cell_type": "markdown",
   "id": "d3aab0da-a48c-46c8-b58f-f9aaa010520c",
   "metadata": {},
   "source": [
    "## Código"
   ]
  },
  {
   "cell_type": "code",
   "execution_count": null,
   "id": "8017fa7a-1a10-4835-9fa5-7050d780cbab",
   "metadata": {},
   "outputs": [],
   "source": [
    "# Grau de liberdade dos quadrados da falta de ajuste ($gl_{falta \\, ajuste}$)\n",
    "\n",
    "$$gl_{falta \\, ajuste} = a - n_{param}$$\n",
    "\n",
    "onde:\n",
    "* $a$ é o número de grupos;\n",
    "* $n_{param}$ é o número de parâmetros do modelo;"
   ]
  },
  {
   "cell_type": "markdown",
   "id": "b4407358-beb3-4f9b-8170-97cbd3007eff",
   "metadata": {},
   "source": [
    "# Média da soma dos quadrados da falta de ajuste ($MSQFA$)\n",
    "\n",
    "$$MSQFA = \\frac{SQFA}{gl_{falta \\, ajuste}}$$\n",
    "\n",
    "onde:\n",
    "* $SQFA$ é o somatório dos quadrados da falta de ajuste;\n",
    "* $gl_{falta \\, ajuste}$ é o grau de liberdade do somatório dos quadrados da falta de ajuste;"
   ]
  },
  {
   "cell_type": "markdown",
   "id": "ffed50fa-7544-403b-a336-1f76032b5e73",
   "metadata": {},
   "source": [
    "## Código"
   ]
  },
  {
   "cell_type": "code",
   "execution_count": null,
   "id": "54c070ac-aa79-41f9-bb13-b80f3826f4a7",
   "metadata": {},
   "outputs": [],
   "source": [
    "# Média da soma dos quadrados da falta de ajuste ($MSQFA$)\n",
    "\n",
    "$$MSQFA = \\frac{SQFA}{gl_{falta \\, ajuste}}$$\n",
    "\n",
    "onde:\n",
    "* $SQFA$ é o somatório dos quadrados da falta de ajuste;\n",
    "* $gl_{falta \\, ajuste}$ é o grau de liberdade do somatório dos quadrados da falta de ajuste;"
   ]
  },
  {
   "cell_type": "markdown",
   "id": "a6b88832-5dfd-4679-84b6-780699cfc752",
   "metadata": {},
   "source": [
    "# Média da soma dos quadrados da falta de ajuste ($MSQFA$)\n",
    "\n",
    "$$MSQFA = \\frac{\\sum_{i=1}^{a} \\sum_{j=1}^{n_{i}} \\left( \\widehat{y}_{ij} - \\overline{y_{i}} \\right)^{2}}{a - n_{param}}$$\n",
    "\n",
    "onde:\n",
    "* $a$ é o número de grupos;\n",
    "* $n_{i}$ é o número de observações do grupo $i$;\n",
    "* $a$ é o número de grupos;\n",
    "* $\\widehat{y_{ij}}$ é o valor predito para a i-ésima observação obtida para $x_{i}$;\n",
    "* $\\overline{y_{i}}$ é a média do grupo $i$;\n",
    "* $n_{param}$ é o número de parâmetros do modelo;"
   ]
  },
  {
   "cell_type": "markdown",
   "id": "0cf4d6db-ff3d-4198-a3e1-1f31f2049475",
   "metadata": {},
   "source": [
    "## Código"
   ]
  },
  {
   "cell_type": "code",
   "execution_count": null,
   "id": "4aeb0161-7cc7-4c52-9578-427d994d1ada",
   "metadata": {},
   "outputs": [],
   "source": [
    "# Média da soma dos quadrados da falta de ajuste ($MSQFA$)\n",
    "\n",
    "$$MSQFA = \\frac{\\sum_{i=1}^{a} \\sum_{j=1}^{n_{i}} \\left( \\widehat{y}_{ij} - \\overline{y_{i}} \\right)^{2}}{a - n_{param}}$$\n",
    "\n",
    "onde:\n",
    "* $a$ é o número de grupos;\n",
    "* $n_{i}$ é o número de observações do grupo $i$;\n",
    "* $a$ é o número de grupos;\n",
    "* $\\widehat{y_{ij}}$ é o valor predito para a i-ésima observação obtida para $x_{i}$;\n",
    "* $\\overline{y_{i}}$ é a média do grupo $i$;\n",
    "* $n_{param}$ é o número de parâmetros do modelo;"
   ]
  }
 ],
 "metadata": {
  "kernelspec": {
   "display_name": "Python 3 (ipykernel)",
   "language": "python",
   "name": "python3"
  },
  "language_info": {
   "codemirror_mode": {
    "name": "ipython",
    "version": 3
   },
   "file_extension": ".py",
   "mimetype": "text/x-python",
   "name": "python",
   "nbconvert_exporter": "python",
   "pygments_lexer": "ipython3",
   "version": "3.9.10"
  }
 },
 "nbformat": 4,
 "nbformat_minor": 5
}
