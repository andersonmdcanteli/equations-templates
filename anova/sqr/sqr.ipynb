{
 "cells": [
  {
   "cell_type": "markdown",
   "id": "af80a74c-4145-4f8a-8d41-986a86a714b1",
   "metadata": {},
   "source": [
    "# Somatório do quadrado da regressão ($SQR$)\n",
    "\n",
    "$$SQR = \\sum_{i=1}^{n} \\left(\\widehat{y}_{i} - \\overline{y} \\right)^{2}$$\n",
    "\n",
    "onde:\n",
    "* $n$ é o número total de observações;\n",
    "* $\\widehat{y}_{i}$ é o valor predito pelo modelo para a i-ésima observação obtida em $x_{i}$;\n",
    "* $\\overline{y}$ é a média de todas as observações;"
   ]
  },
  {
   "cell_type": "markdown",
   "id": "7c12b48a-c7f7-4a4e-8191-745c52d2ff81",
   "metadata": {},
   "source": [
    "## Código"
   ]
  },
  {
   "cell_type": "code",
   "execution_count": null,
   "id": "c20b39ad-9529-4cd1-9725-a624c8082d8f",
   "metadata": {},
   "outputs": [],
   "source": [
    "# Somatório do quadrado da regressão ($SQR$)\n",
    "\n",
    "$$SQR = \\sum_{i=1}^{n} \\left(\\widehat{y}_{i} - \\overline{y} \\right)^{2}$$\n",
    "\n",
    "onde:\n",
    "* $n$ é o número total de observações;\n",
    "* $\\widehat{y}_{i}$ é o valor predito pelo modelo para a i-ésima observação obtida em $x_{i}$;\n",
    "* $\\overline{y}$ é a média de todas as observações;"
   ]
  },
  {
   "cell_type": "markdown",
   "id": "d150b3c8-d5c2-4d24-9312-278b529f5269",
   "metadata": {
    "tags": []
   },
   "source": [
    "# Grau de liberdade dos quadrados totais ($gl_{regressão}$)\n",
    "\n",
    "$$gl_{regressão}=k$$\n",
    "\n",
    "onde:\n",
    "* $k$ é o número de parâmetros associados à regressão;"
   ]
  },
  {
   "cell_type": "markdown",
   "id": "647e3e6a-cf5c-440d-9b0b-0bb78b217f59",
   "metadata": {},
   "source": [
    "## Código"
   ]
  },
  {
   "cell_type": "code",
   "execution_count": null,
   "id": "319530a9-b789-4192-ae79-25e3c9073e96",
   "metadata": {},
   "outputs": [],
   "source": [
    "# Grau de liberdade dos quadrados totais ($gl_{regressão}$)\n",
    "\n",
    "$$gl_{regressão}=k$$\n",
    "\n",
    "onde:\n",
    "* $k$ é o número de parâmetros associados à regressão;"
   ]
  },
  {
   "cell_type": "markdown",
   "id": "133e7418-021f-43e3-a943-54905e296e39",
   "metadata": {},
   "source": [
    "# Média dos quadrados da regressão ($MSQR$)\n",
    "\n",
    "$$MSQR=\\frac{SQR}{gl_{regressão}}$$\n",
    "\n",
    "onde:\n",
    "* $SQR$ é o somatório dos quadrados da regressão;\n",
    "* $gl_{regressão}$ é o grau de liberdade da soma dos quadrados da regressão;"
   ]
  },
  {
   "cell_type": "markdown",
   "id": "775a0d80-8d47-4829-957c-4257afcb90b1",
   "metadata": {},
   "source": [
    "## Código"
   ]
  },
  {
   "cell_type": "code",
   "execution_count": null,
   "id": "35b95d9e-2e3a-4ab6-a823-5d0957a80198",
   "metadata": {},
   "outputs": [],
   "source": [
    "# Média dos quadrados da regressão ($MSQR$)\n",
    "\n",
    "$$MSQR=\\frac{SQR}{gl_{regressão}}$$\n",
    "\n",
    "onde:\n",
    "* $SQR$ é o somatório dos quadrados da regressão;\n",
    "* $gl_{regressão}$ é o grau de liberdade da soma dos quadrados da regressão;"
   ]
  },
  {
   "cell_type": "markdown",
   "id": "caa5ee0f-ccfa-46c1-9744-843d3207e6b7",
   "metadata": {},
   "source": [
    "# Média dos quadrados da regressão ($MSQR$)\n",
    "\n",
    "$$MSQR=\\frac{\\sum_{i=1}^{n} \\left(\\widehat{y}_{i} - \\overline{y} \\right)^{2}}{k}$$\n",
    "\n",
    "onde:\n",
    "* $n$ é o número total de observações;\n",
    "* $\\widehat{y}_{i}$ é o valor predito pelo modelo para a i-ésima observação obtida em $x_{i}$;\n",
    "* $\\overline{y}$ é a média de todas as observações;\n",
    "* $k$ é o número de parâmetros associados à regressão;"
   ]
  },
  {
   "cell_type": "markdown",
   "id": "e71fdfb3-81bf-4b30-955d-4a11fa7e4357",
   "metadata": {},
   "source": [
    "## Código"
   ]
  },
  {
   "cell_type": "code",
   "execution_count": null,
   "id": "6443087a-6d30-4d06-8056-93a4a9c96a22",
   "metadata": {},
   "outputs": [],
   "source": [
    "# Média dos quadrados da regressão ($MSQR$)\n",
    "\n",
    "$$MSQR=\\frac{\\sum_{i=1}^{n} \\left(\\widehat{y}_{i} - \\overline{y} \\right)^{2}}{k}$$\n",
    "\n",
    "onde:\n",
    "* $n$ é o número total de observações;\n",
    "* $\\widehat{y}_{i}$ é o valor predito pelo modelo para a i-ésima observação obtida em $x_{i}$;\n",
    "* $\\overline{y}$ é a média de todas as observações;\n",
    "* $k$ é o número de parâmetros associados à regressão;"
   ]
  }
 ],
 "metadata": {
  "kernelspec": {
   "display_name": "Python 3 (ipykernel)",
   "language": "python",
   "name": "python3"
  },
  "language_info": {
   "codemirror_mode": {
    "name": "ipython",
    "version": 3
   },
   "file_extension": ".py",
   "mimetype": "text/x-python",
   "name": "python",
   "nbconvert_exporter": "python",
   "pygments_lexer": "ipython3",
   "version": "3.9.10"
  }
 },
 "nbformat": 4,
 "nbformat_minor": 5
}
