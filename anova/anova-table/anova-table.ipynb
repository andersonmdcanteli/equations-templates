{
 "cells": [
  {
   "cell_type": "markdown",
   "id": "b31974b7-4b0c-4d0a-8ebd-a31a90ce715b",
   "metadata": {},
   "source": [
    "# Tabela de ANOVA\n",
    "\n",
    "| Fonte de variação | Soma dos quadrados | Grau de liberdade | Média dos quadrados | Estatística | Crítico | p-valor | Conclusão |\n",
    "| :-: | :-: | :-: |  :-: | :-: | :-: | :-: | :-: |\n",
    "| Regressão | $SQR$ | $gl_{regressão}$ | $MSQR$ | $Fcalc$ | $Ftab$ | $pvalor$ | * |\n",
    "| Erros | $SQE$ | $gl_{erros}$ | $MSQE$ |  |  |  |  |\n",
    "| Total | $SQT$ | $gl_{total}$ | $MSQT$ |  |  |  |  |\n",
    "\n",
    "## Conclusão\n",
    "\n",
    "* Se $pvalor < \\alpha$, rejeita $H_{0}$; *\n",
    "* Se $pvalor \\geq \\alpha$, falha em rejeitar $H_{0}$; *"
   ]
  },
  {
   "cell_type": "markdown",
   "id": "e92c2eee-5470-481e-8258-473c8785b70c",
   "metadata": {},
   "source": [
    "## Código"
   ]
  },
  {
   "cell_type": "code",
   "execution_count": null,
   "id": "e853e620-8874-41e7-a3a1-b7a21787b607",
   "metadata": {},
   "outputs": [],
   "source": [
    "# Tabela de ANOVA\n",
    "\n",
    "| Fonte de variação | Soma dos quadrados | Grau de liberdade | Média dos quadrados | Estatística | Crítico | p-valor | Conclusão |\n",
    "| :-: | :-: | :-: |  :-: | :-: | :-: | :-: | :-: |\n",
    "| Regressão | $SQR$ | $gl_{regressão}$ | $MSQR$ | $Fcalc$ | $Ftab$ | $pvalor$ | * |\n",
    "| Erros | $SQE$ | $gl_{erros}$ | $MSQE$ |  |  |  |  |\n",
    "| Total | $SQT$ | $gl_{total}$ | $MSQT$ |  |  |  |  |\n",
    "\n",
    "## Conclusão\n",
    "\n",
    "* Se $pvalor < \\alpha$, rejeita $H_{0}$; *\n",
    "* Se $pvalor \\geq \\alpha$, falha em rejeitar $H_{0}$; *"
   ]
  },
  {
   "cell_type": "markdown",
   "id": "ecc86cac-d109-492e-9f49-95d04f0652f9",
   "metadata": {
    "tags": []
   },
   "source": [
    "# Tabela de ANOVA\n",
    "\n",
    "| Fonte de variação | $SQ$ | $gl$ | $MSQ$ | $Fcalc$ | $Ftab$ | p-valor | Conclusão |\n",
    "| :-: | :-: | :-: |  :-: | :-: | :-: | :-: | :-: |\n",
    "| Regressão | $\\sum_{i=1}^{n} \\left(\\widehat{y}_{i} - \\overline{y} \\right)^{2}$ | $k$ | $\\frac{SQR}{gl_{regressão}}$ | $\\frac{MSQR}{MSQE}$ | $F_{1-\\alpha; \\, a-k; \\, n-n_{p}}$ | $pvalor$ | * |\n",
    "| Erros | $\\sum_{i=1}^{n} \\left(\\widehat{y}_{i} - y_{i} \\right)^{2}$ | $n-n_{p}$ | $\\frac{SQE}{gl_{errors}}$ |  |  |  |  |\n",
    "| Total | $\\sum_{i=1}^{n} \\left(y_{i} - \\overline{y} \\right)^{2}$ | $n-1$ | $\\frac{SQT}{gl_{totais}}$ |  |  |  |  |\n",
    "\n",
    "* Se $pvalor < \\alpha$, rejeita $H_{0}$;\n",
    "* Se $pvalor \\geq \\alpha$, falha em rejeitar $H_{0}$;\n",
    "\n",
    "* $n$ é o número total de observações;\n",
    "* $\\widehat{y}_{i}$ é o valor predito pelo modelo para a i-ésima observação obtida em $x_{i}$;\n",
    "* $\\overline{y}$ é a média de todas as observações;\n",
    "* $k$ é o número de parâmetros associados à regressão;\n",
    "* $y_{i}$ é a i-ésima observação obtida em $x_{i}$;\n",
    "* $n_{p}$ é o número de parâmetros do modelo;\n",
    "\n",
    "## Conclusão\n",
    "\n",
    "* Se $pvalor < \\alpha$, rejeita $H_{0}$; *\n",
    "* Se $pvalor \\geq \\alpha$, falha em rejeitar $H_{0}$; *"
   ]
  },
  {
   "cell_type": "markdown",
   "id": "05f0f154-0f40-4778-be08-cd93d47286ba",
   "metadata": {},
   "source": [
    "## Código"
   ]
  },
  {
   "cell_type": "code",
   "execution_count": null,
   "id": "3e778ca8-e248-4a18-907a-a25c179eff67",
   "metadata": {},
   "outputs": [],
   "source": [
    "# Tabela de ANOVA\n",
    "\n",
    "| Fonte de variação | $SQ$ | $gl$ | $MSQ$ | $Fcalc$ | $Ftab$ | p-valor | Conclusão |\n",
    "| :-: | :-: | :-: |  :-: | :-: | :-: | :-: | :-: |\n",
    "| Regressão | $\\sum_{i=1}^{n} \\left(\\widehat{y}_{i} - \\overline{y} \\right)^{2}$ | $k$ | $\\frac{SQR}{gl_{regressão}}$ | $\\frac{MSQR}{MSQE}$ | $F_{1-\\alpha; \\, a-k; \\, n-n_{p}}$ | $pvalor$ | * |\n",
    "| Erros | $\\sum_{i=1}^{n} \\left(\\widehat{y}_{i} - y_{i} \\right)^{2}$ | $n-n_{p}$ | $\\frac{SQE}{gl_{errors}}$ |  |  |  |  |\n",
    "| Total | $\\sum_{i=1}^{n} \\left(y_{i} - \\overline{y} \\right)^{2}$ | $n-1$ | $\\frac{SQT}{gl_{totais}}$ |  |  |  |  |\n",
    "\n",
    "* Se $pvalor < \\alpha$, rejeita $H_{0}$;\n",
    "* Se $pvalor \\geq \\alpha$, falha em rejeitar $H_{0}$;\n",
    "\n",
    "* $n$ é o número total de observações;\n",
    "* $\\widehat{y}_{i}$ é o valor predito pelo modelo para a i-ésima observação obtida em $x_{i}$;\n",
    "* $\\overline{y}$ é a média de todas as observações;\n",
    "* $k$ é o número de parâmetros associados à regressão;\n",
    "* $y_{i}$ é a i-ésima observação obtida em $x_{i}$;\n",
    "* $n_{p}$ é o número de parâmetros do modelo;\n",
    "\n",
    "## Conclusão\n",
    "\n",
    "* Se $pvalor < \\alpha$, rejeita $H_{0}$; *\n",
    "* Se $pvalor \\geq \\alpha$, falha em rejeitar $H_{0}$; *"
   ]
  },
  {
   "cell_type": "markdown",
   "id": "8abd8569-b33a-465a-9b83-8faab79fc461",
   "metadata": {
    "tags": []
   },
   "source": [
    "# Tabela de ANOVA completa\n",
    "\n",
    "| Fonte de variação | Soma dos quadrados | Grau de liberdade | Média dos quadrados | Estatística | Crítico | p-valor | Conclusão |\n",
    "| :-: | :-: | :-: |  :-: | :-: | :-: | :-: | :-: |\n",
    "| Regressão | $SQR$ | $gl_{regressão}$ | $MSQR$ | $Fcalc$ | $Ftab$ | $pvalor$ | * |\n",
    "| Erros | $SQE$ | $gl_{erros}$ | $MSQE$ |  |  |  |  |\n",
    "| Falta de ajuste | $SQFA$ | $gl_{falta \\, ajuste}$ | $MSFA$ | $Fcalc$ | $Ftab$ | $pvalor$ | * |\n",
    "| Erro puro | $SQEP$ | $gl_{erro \\, puro}$ | $MSQEP$ |  |  |  |  |\n",
    "| Total | $SQT$ | $gl_{total}$ | $MSQT$ |  |  |  |  |\n",
    "\n",
    "## Conclusão\n",
    "\n",
    "* Se $pvalor < \\alpha$, rejeita $H_{0}$; *\n",
    "* Se $pvalor \\geq \\alpha$, falha em rejeitar $H_{0}$; *"
   ]
  },
  {
   "cell_type": "markdown",
   "id": "991ab8b9-77b3-4188-a544-d1a37c251e51",
   "metadata": {},
   "source": [
    "## Código"
   ]
  },
  {
   "cell_type": "code",
   "execution_count": null,
   "id": "8bac2246-e411-4fab-b96f-52662df71790",
   "metadata": {},
   "outputs": [],
   "source": [
    "# Tabela de ANOVA completa\n",
    "\n",
    "| Fonte de variação | Soma dos quadrados | Grau de liberdade | Média dos quadrados | Estatística | Crítico | p-valor | Conclusão |\n",
    "| :-: | :-: | :-: |  :-: | :-: | :-: | :-: | :-: |\n",
    "| Regressão | $SQR$ | $gl_{regressão}$ | $MSQR$ | $Fcalc$ | $Ftab$ | $pvalor$ | * |\n",
    "| Erros | $SQE$ | $gl_{erros}$ | $MSQE$ |  |  |  |  |\n",
    "| Falta de ajuste | $SQFA$ | $gl_{falta \\, ajuste}$ | $MSFA$ | $Fcalc$ | $Ftab$ | $pvalor$ | * |\n",
    "| Erro puro | $SQEP$ | $gl_{erro \\, puro}$ | $MSQEP$ |  |  |  |  |\n",
    "| Total | $SQT$ | $gl_{total}$ | $MSQT$ |  |  |  |  |\n",
    "\n",
    "## Conclusão\n",
    "\n",
    "* Se $pvalor < \\alpha$, rejeita $H_{0}$; *\n",
    "* Se $pvalor \\geq \\alpha$, falha em rejeitar $H_{0}$; *"
   ]
  },
  {
   "cell_type": "markdown",
   "id": "28aaea77-24b1-4b12-8ec4-12eeba0b638e",
   "metadata": {},
   "source": [
    "# Tabela e ANOVA\n",
    "\n",
    "| Fonte de variação | $SQ$ | $gl$ | $MSQ$ | $Fcalc$ | $Ftab$ | p-valor | Conclusão |\n",
    "| :-: | :-: | :-: |  :-: | :-: | :-: | :-: | :-: |\n",
    "| Regressão | $\\sum_{i=1}^{n} \\left(\\widehat{y}_{i} - \\overline{y} \\right)^{2}$ | $k$ | $\\frac{SQR}{gl_{regressão}}$ | $\\frac{MSQR}{MSQE}$ | $F_{1-\\alpha; \\, a-k; \\, n-n_{p}}$ | $pvalor$ | * |\n",
    "| Erros | $\\sum_{i=1}^{n} \\left(\\widehat{y}_{i} - y_{i} \\right)^{2}$ | $n-n_{p}$ | $\\frac{SQE}{gl_{errors}}$ |  |  |  |  |\n",
    "| Falta de ajuste | $\\sum_{i=1}^{a} \\sum_{j=1}^{n_{i}} \\left( \\widehat{y}_{ij} - \\overline{y_{i}} \\right)^{2}$ | $a - n_{p}$ | $\\frac{SQFA}{gl_{falta \\, ajuste}}$ | $\\frac{MSQR}{MSQE}$ | $F_{1-\\alpha; \\, a-k; \\, n-n_{p}}$ | $pvalor$ | * |\n",
    "| Erro puro | $\\sum_{i=1}^{a} \\sum_{j=1}^{n_{i}} \\left( y_{i,j} - \\overline{y_{i}} \\right)^{2}$ | $n - a$ | $\\frac{SQEP}{gl_{puro}}$ |  |  |  |  |\n",
    "| Total | $\\sum_{i=1}^{n} \\left(y_{i} - \\overline{y} \\right)^{2}$ | $n-1$ | $\\frac{SQT}{gl_{totais}}$ |  |  |  |  |\n",
    "\n",
    "* Se $pvalor < \\alpha$, rejeita $H_{0}$;\n",
    "* Se $pvalor \\geq \\alpha$, falha em rejeitar $H_{0}$;\n",
    "\n",
    "* $n$ é o número total de observações;\n",
    "* $\\widehat{y}_{i}$ é o valor predito pelo modelo para a i-ésima observação obtida em $x_{i}$;\n",
    "* $\\overline{y}$ é a média de todas as observações;\n",
    "* $k$ é o número de parâmetros associados à regressão;\n",
    "* $y_{i}$ é a i-ésima observação obtida em $x_{i}$;\n",
    "* $n_{p}$ é o número de parâmetros do modelo;\n",
    "* $a$ é o número de grupos;\n",
    "* $n_{i}$ é o número de observações do grupo $i$;\n",
    "\n",
    "\n",
    "\n",
    "## Conclusão\n",
    "\n",
    "* Se $pvalor < \\alpha$, rejeita $H_{0}$; *\n",
    "* Se $pvalor \\geq \\alpha$, falha em rejeitar $H_{0}$; *"
   ]
  },
  {
   "cell_type": "markdown",
   "id": "837cb61e-6873-407b-9f73-082e1e4ef70d",
   "metadata": {},
   "source": [
    "## Código"
   ]
  },
  {
   "cell_type": "code",
   "execution_count": null,
   "id": "3f02a1c8-3a37-4abd-91c0-566e61e706aa",
   "metadata": {},
   "outputs": [],
   "source": [
    "# Tabela e ANOVA\n",
    "\n",
    "| Fonte de variação | $SQ$ | $gl$ | $MSQ$ | $Fcalc$ | $Ftab$ | p-valor | Conclusão |\n",
    "| :-: | :-: | :-: |  :-: | :-: | :-: | :-: | :-: |\n",
    "| Regressão | $\\sum_{i=1}^{n} \\left(\\widehat{y}_{i} - \\overline{y} \\right)^{2}$ | $k$ | $\\frac{SQR}{gl_{regressão}}$ | $\\frac{MSQR}{MSQE}$ | $F_{1-\\alpha; \\, a-k; \\, n-n_{p}}$ | $pvalor$ | * |\n",
    "| Erros | $\\sum_{i=1}^{n} \\left(\\widehat{y}_{i} - y_{i} \\right)^{2}$ | $n-n_{p}$ | $\\frac{SQE}{gl_{errors}}$ |  |  |  |  |\n",
    "| Falta de ajuste | $\\sum_{i=1}^{a} \\sum_{j=1}^{n_{i}} \\left( \\widehat{y}_{ij} - \\overline{y_{i}} \\right)^{2}$ | $a - n_{p}$ | $\\frac{SQFA}{gl_{falta \\, ajuste}}$ | $\\frac{MSQR}{MSQE}$ | $F_{1-\\alpha; \\, a-k; \\, n-n_{p}}$ | $pvalor$ | * |\n",
    "| Erro puro | $\\sum_{i=1}^{a} \\sum_{j=1}^{n_{i}} \\left( y_{i,j} - \\overline{y_{i}} \\right)^{2}$ | $n - a$ | $\\frac{SQEP}{gl_{puro}}$ |  |  |  |  |\n",
    "| Total | $\\sum_{i=1}^{n} \\left(y_{i} - \\overline{y} \\right)^{2}$ | $n-1$ | $\\frac{SQT}{gl_{totais}}$ |  |  |  |  |\n",
    "\n",
    "* Se $pvalor < \\alpha$, rejeita $H_{0}$;\n",
    "* Se $pvalor \\geq \\alpha$, falha em rejeitar $H_{0}$;\n",
    "\n",
    "* $n$ é o número total de observações;\n",
    "* $\\widehat{y}_{i}$ é o valor predito pelo modelo para a i-ésima observação obtida em $x_{i}$;\n",
    "* $\\overline{y}$ é a média de todas as observações;\n",
    "* $k$ é o número de parâmetros associados à regressão;\n",
    "* $y_{i}$ é a i-ésima observação obtida em $x_{i}$;\n",
    "* $n_{p}$ é o número de parâmetros do modelo;\n",
    "* $a$ é o número de grupos;\n",
    "* $n_{i}$ é o número de observações do grupo $i$;\n",
    "\n",
    "\n",
    "\n",
    "## Conclusão\n",
    "\n",
    "* Se $pvalor < \\alpha$, rejeita $H_{0}$; *\n",
    "* Se $pvalor \\geq \\alpha$, falha em rejeitar $H_{0}$; *"
   ]
  }
 ],
 "metadata": {
  "kernelspec": {
   "display_name": "Python 3 (ipykernel)",
   "language": "python",
   "name": "python3"
  },
  "language_info": {
   "codemirror_mode": {
    "name": "ipython",
    "version": 3
   },
   "file_extension": ".py",
   "mimetype": "text/x-python",
   "name": "python",
   "nbconvert_exporter": "python",
   "pygments_lexer": "ipython3",
   "version": "3.9.10"
  }
 },
 "nbformat": 4,
 "nbformat_minor": 5
}
