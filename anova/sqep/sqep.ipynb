{
 "cells": [
  {
   "cell_type": "markdown",
   "id": "a7ab81c6-6b9b-4635-8c63-2a25f0b1c812",
   "metadata": {},
   "source": [
    "# Somatório dos quadrados do erro puro ($SQEP$)\n",
    "\n",
    "$$SQEP = \\sum_{i=1}^{a} \\sum_{j=1}^{n_{i}} \\left( y_{i,j} - \\overline{y_{i}} \\right)^{2}$$\n",
    "\n",
    "onde:\n",
    "* $n$ é o número total de observações;\n",
    "* $a$ é o número de grupos;\n",
    "* $n_{i}$ é o número de observações do grupo $i$;\n",
    "* $y_{i}$ é a i-ésima observação obtida em $x_{i}$;\n",
    "* $\\overline{y_{i}}$ é a média do grupo i;"
   ]
  },
  {
   "cell_type": "markdown",
   "id": "c57a5fe7-8460-4042-8d2d-61728dbbb29b",
   "metadata": {},
   "source": [
    "## Código"
   ]
  },
  {
   "cell_type": "code",
   "execution_count": null,
   "id": "3ee9c512-1c14-440a-8de1-455413e655ec",
   "metadata": {},
   "outputs": [],
   "source": [
    "# Somatório dos quadrados do erro puro ($SQEP$)\n",
    "\n",
    "$$SQEP = \\sum_{i=1}^{a} \\sum_{j=1}^{n_{i}} \\left( y_{i,j} - \\overline{y_{i}} \\right)^{2}$$\n",
    "\n",
    "onde:\n",
    "* $n$ é o número total de observações;\n",
    "* $a$ é o número de grupos;\n",
    "* $n_{i}$ é o número de observações do grupo $i$;\n",
    "* $y_{i}$ é a i-ésima observação obtida em $x_{i}$;\n",
    "* $\\overline{y_{i}}$ é a média do grupo i;"
   ]
  },
  {
   "cell_type": "markdown",
   "id": "231ddcf4-2474-44e2-a67e-255b0c9c66fd",
   "metadata": {},
   "source": [
    "# Grau de liberdade dos quadrados do erro puro ($gl_{puro}$)\n",
    "\n",
    "$$gl_{puro} = n - a$$\n",
    "\n",
    "onde:\n",
    "* $n$ é o número total de observações;\n",
    "* $a$ é o número de grupos;"
   ]
  },
  {
   "cell_type": "markdown",
   "id": "335dd026-69a4-4583-be54-5d352e3357b9",
   "metadata": {},
   "source": [
    "## Código"
   ]
  },
  {
   "cell_type": "code",
   "execution_count": null,
   "id": "bf3e2776-c482-41cb-9620-03fa5d36b6df",
   "metadata": {},
   "outputs": [],
   "source": [
    "# Grau de liberdade dos quadrados do erro puro ($gl_{puro}$)\n",
    "\n",
    "$$gl_{puro} = n - a$$\n",
    "\n",
    "onde:\n",
    "* $n$ é o número total de observações;\n",
    "* $a$ é o número de grupos;"
   ]
  },
  {
   "cell_type": "markdown",
   "id": "e9cd21c4-7bcc-47b1-a2a0-424fefcc5d8f",
   "metadata": {},
   "source": [
    "# Média da soma dos quadrados do erro puro  ($MSQEP$)\n",
    "\n",
    "$$MSQEP = \\frac{SQEP}{gl_{puro}}$$\n",
    "\n",
    "onde:\n",
    "* $SQEP$ é o somatório dos quadrados do erro puro;\n",
    "* $gl_{puro}$ é o grau de liberdade do somatório dos quadrados do erro puro;"
   ]
  },
  {
   "cell_type": "markdown",
   "id": "f05ab1b5-2348-4701-8b5f-5747b82a6c9c",
   "metadata": {},
   "source": [
    "## Código"
   ]
  },
  {
   "cell_type": "code",
   "execution_count": null,
   "id": "86663149-aba5-4175-9612-80a324d6f03a",
   "metadata": {},
   "outputs": [],
   "source": [
    "# Média da soma dos quadrados do erro puro  ($MSQEP$)\n",
    "\n",
    "$$MSQEP = \\frac{SQEP}{gl_{puro}}$$\n",
    "\n",
    "onde:\n",
    "* $SQEP$ é o somatório dos quadrados do erro puro;\n",
    "* $gl_{puro}$ é o grau de liberdade do somatório dos quadrados do erro puro;"
   ]
  },
  {
   "cell_type": "markdown",
   "id": "f70171c9-a0f2-4f2e-9171-302b7090e691",
   "metadata": {},
   "source": [
    "# Média da soma dos quadrados do erro puro  ($MSQEP$)\n",
    "\n",
    "$$MSQEP = \\frac{\\sum_{i=1}^{a} \\sum_{j=1}^{n_{i}} \\left( y_{i,j} - \\overline{y_{i}} \\right)^{2}}{n - a}$$\n",
    "\n",
    "onde:\n",
    "* $n$ é o número total de observações;\n",
    "* $a$ é o número de grupos;\n",
    "* $n_{i}$ é o número de observações do grupo $i$;\n",
    "* $y_{i}$ é a i-ésima observação obtida em $x_{i}$;\n",
    "* $\\overline{y_{i}}$ é a média do grupo i;"
   ]
  },
  {
   "cell_type": "markdown",
   "id": "2c179bef-91f9-4516-8bfc-82c07b4985c6",
   "metadata": {},
   "source": [
    "## Código"
   ]
  },
  {
   "cell_type": "code",
   "execution_count": null,
   "id": "6b2869c9-3ad9-47e1-9a3b-ad8e73fb8006",
   "metadata": {},
   "outputs": [],
   "source": [
    "# Média da soma dos quadrados do erro puro  ($MSQEP$)\n",
    "\n",
    "$$MSQEP = \\frac{\\sum_{i=1}^{a} \\sum_{j=1}^{n_{i}} \\left( y_{i,j} - \\overline{y_{i}} \\right)^{2}}{n - a}$$\n",
    "\n",
    "onde:\n",
    "* $n$ é o número total de observações;\n",
    "* $a$ é o número de grupos;\n",
    "* $n_{i}$ é o número de observações do grupo $i$;\n",
    "* $y_{i}$ é a i-ésima observação obtida em $x_{i}$;\n",
    "* $\\overline{y_{i}}$ é a média do grupo i;"
   ]
  }
 ],
 "metadata": {
  "kernelspec": {
   "display_name": "Python 3 (ipykernel)",
   "language": "python",
   "name": "python3"
  },
  "language_info": {
   "codemirror_mode": {
    "name": "ipython",
    "version": 3
   },
   "file_extension": ".py",
   "mimetype": "text/x-python",
   "name": "python",
   "nbconvert_exporter": "python",
   "pygments_lexer": "ipython3",
   "version": "3.9.10"
  }
 },
 "nbformat": 4,
 "nbformat_minor": 5
}
