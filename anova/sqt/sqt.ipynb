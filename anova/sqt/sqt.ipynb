{
 "cells": [
  {
   "cell_type": "markdown",
   "id": "92373c97-1735-4962-ac46-d213c7b7cdc5",
   "metadata": {},
   "source": [
    "# Somatório dos quadrados totais ($SQT$)\n",
    "\n",
    "\n",
    "$$SQT = \\sum_{i=1}^{n} \\left(y_{i} - \\overline{y} \\right)^{2}$$\n",
    "\n",
    "onde:\n",
    "* $n$ é o número totao de observações;\n",
    "* $y_{i}$ é a i-ésima observação obtida em $x_{i}$;\n",
    "* $\\overline{y}$ é a média de todas as observações\n"
   ]
  },
  {
   "cell_type": "markdown",
   "id": "d51b7c18-f4f2-49ff-9647-d060e89635b5",
   "metadata": {},
   "source": [
    "## Código"
   ]
  },
  {
   "cell_type": "code",
   "execution_count": null,
   "id": "92eca070-87f2-4f7c-9c69-7b8b49ddf963",
   "metadata": {},
   "outputs": [],
   "source": [
    "# Somatório dos quadrados totais ($SQT$)\n",
    "\n",
    "\n",
    "$$SQT = \\sum_{i=1}^{n} \\left(y_{i} - \\overline{y} \\right)^{2}$$\n",
    "\n",
    "onde:\n",
    "* $n$ é o número totao de observações;\n",
    "* $y_{i}$ é a i-ésima observação obtida em $x_{i}$;\n",
    "* $\\overline{y}$ é a média de todas as observações"
   ]
  },
  {
   "cell_type": "markdown",
   "id": "4ff79bf7-67fb-40a5-9218-39ebde39d768",
   "metadata": {},
   "source": [
    "# Grau de liberdade dos quadrados totais ($gl_{totais}$)\n",
    "\n",
    "$$gl_{totais}=n-1$$\n",
    "\n",
    "onde:\n",
    "* $n$ é o número total de observações;\n"
   ]
  },
  {
   "cell_type": "markdown",
   "id": "01440edb-ad4b-4f55-8859-fa0060a7f83f",
   "metadata": {},
   "source": [
    "## Código"
   ]
  },
  {
   "cell_type": "code",
   "execution_count": null,
   "id": "be54858e-d420-47f2-a271-558eb1afdc7b",
   "metadata": {},
   "outputs": [],
   "source": [
    "# Grau de liberdade dos quadrados totais ($gl_{totais}$)\n",
    "\n",
    "$$gl_{totais}=n-1$$\n",
    "\n",
    "onde:\n",
    "* $n$ é o número total de observações;\n"
   ]
  },
  {
   "cell_type": "markdown",
   "id": "9f64362a-3733-4c27-b66f-8142f28a3ab3",
   "metadata": {},
   "source": [
    "# Média dos quadrados totais ($MSQT$)\n",
    "\n",
    "$$MSQT=\\frac{SQT}{gl_{totais}}$$\n",
    "\n",
    "onde:\n",
    "* $SQT$ é a soma dos quadrados totais;\n",
    "* $gl_{totais}$ é o grau de liberdade dos quadrados totais;"
   ]
  },
  {
   "cell_type": "markdown",
   "id": "d67e7655-d2ba-433f-af11-5b57e4f87253",
   "metadata": {},
   "source": [
    "## Código"
   ]
  },
  {
   "cell_type": "code",
   "execution_count": null,
   "id": "0cb28daa-f2b7-41dc-a7bc-1ae08646056b",
   "metadata": {},
   "outputs": [],
   "source": [
    "# Média dos quadrados totais ($MSQT$)\n",
    "\n",
    "$$MSQT=\\frac{SQT}{gl_{totais}}$$\n",
    "\n",
    "onde:\n",
    "* $SQT$ é a soma dos quadrados totais;\n",
    "* $gl_{totais}$ é o grau de liberdade dos quadrados totais;"
   ]
  }
 ],
 "metadata": {
  "kernelspec": {
   "display_name": "Python 3 (ipykernel)",
   "language": "python",
   "name": "python3"
  },
  "language_info": {
   "codemirror_mode": {
    "name": "ipython",
    "version": 3
   },
   "file_extension": ".py",
   "mimetype": "text/x-python",
   "name": "python",
   "nbconvert_exporter": "python",
   "pygments_lexer": "ipython3",
   "version": "3.9.10"
  }
 },
 "nbformat": 4,
 "nbformat_minor": 5
}
