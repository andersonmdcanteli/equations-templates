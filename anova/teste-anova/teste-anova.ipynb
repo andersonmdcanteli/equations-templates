{
 "cells": [
  {
   "cell_type": "markdown",
   "id": "5b7edaf3-95c0-4485-825a-2e15c6f82fa8",
   "metadata": {},
   "source": [
    "# Teste de ANOVA"
   ]
  },
  {
   "cell_type": "markdown",
   "id": "ff3133d8-d2c3-49fd-a4cb-144a79822d66",
   "metadata": {},
   "source": [
    "## Hipóteses\n",
    "\n",
    "* $H_{0}:$ A variância explicada pela regressão é igual a variância devido aos erros de ajuste;\n",
    "* $H_{1}:$ A variância explicada pela regressão é maior do que a variância devido aos erros de ajuste;"
   ]
  },
  {
   "cell_type": "markdown",
   "id": "ec4a3f67-9368-4c2a-9c86-3f36d2103856",
   "metadata": {},
   "source": [
    "### Código"
   ]
  },
  {
   "cell_type": "code",
   "execution_count": null,
   "id": "fbbca8ba-4fb8-4968-8fdc-aea03ae2082d",
   "metadata": {},
   "outputs": [],
   "source": [
    "## Hipóteses\n",
    "\n",
    "* $H_{0}:$ A variância explicada pela regressão é igual a variância devido aos erros de ajuste;\n",
    "* $H_{1}:$ A variância explicada pela regressão é maior do que a variância devido aos erros de ajuste;"
   ]
  },
  {
   "cell_type": "markdown",
   "id": "0c677df1-cc48-49c4-b7c6-812db48d8c29",
   "metadata": {},
   "source": [
    "## Estatística do teste ($Fcalc$)\n",
    "\n",
    "$$Fcalc = \\frac{MSQR}{MSQE}$$\n",
    "\n",
    "onde:\n",
    "* $MSQR$ é a média do somatório dos quadrados da regressão;\n",
    "* $MSQE$ é a média do somatório dos quadrados dos erros;"
   ]
  },
  {
   "cell_type": "markdown",
   "id": "ad307b2e-4fac-41bc-a04f-af8e298982b8",
   "metadata": {},
   "source": [
    "### Código"
   ]
  },
  {
   "cell_type": "code",
   "execution_count": null,
   "id": "8a82483a-43fe-484e-887f-48cd62b95bf6",
   "metadata": {},
   "outputs": [],
   "source": [
    "## Estatística do teste ($Fcalc$)\n",
    "\n",
    "$$Fcalc = \\frac{MSQR}{MSQE}$$\n",
    "\n",
    "onde:\n",
    "* $MSQR$ é a média do somatório dos quadrados da regressão;\n",
    "* $MSQE$ é a média do somatório dos quadrados dos erros;"
   ]
  },
  {
   "cell_type": "markdown",
   "id": "ccf09f3e-b89c-489e-ad4a-6f9f4f46482f",
   "metadata": {},
   "source": [
    "## Estatística do teste ($Fcalc$)\n",
    "\n",
    "$$Fcalc = \\frac{\\frac{\\sum_{i=1}^{n} \\left(\\widehat{y}_{i} - \\overline{y} \\right)^{2}}{k}}{\\frac{\\sum_{i=1}^{n} \\left(\\widehat{y}_{i} - y_{i} \\right)^{2}}{n-n_{p}}}$$\n",
    "\n",
    "onde:\n",
    "* $n$ é o número total de observações;\n",
    "* $\\widehat{y}_{i}$ é o valor predito pelo modelo para a i-ésima observação obtida em $x_{i}$;\n",
    "* $\\overline{y}$ é a média de todas as observações;\n",
    "* $k$ é o número de parâmetros associados à regressão;\n",
    "* $y_{i}$ é a i-ésima observação obtida em $x_{i}$;\n",
    "* $n_{p}$ é o número de parâmetros do modelo;"
   ]
  },
  {
   "cell_type": "markdown",
   "id": "e46d9611-1eaa-42fe-888a-1379e3c37e73",
   "metadata": {},
   "source": [
    "### Código"
   ]
  },
  {
   "cell_type": "code",
   "execution_count": null,
   "id": "3e90e764-649f-4741-bca2-689fb4197a43",
   "metadata": {},
   "outputs": [],
   "source": [
    "## Estatística do teste ($Fcalc$)\n",
    "\n",
    "$$Fcalc = \\frac{\\frac{\\sum_{i=1}^{n} \\left(\\widehat{y}_{i} - \\overline{y} \\right)^{2}}{k}}{\\frac{\\sum_{i=1}^{n} \\left(\\widehat{y}_{i} - y_{i} \\right)^{2}}{n-n_{p}}}$$\n",
    "\n",
    "onde:\n",
    "* $n$ é o número total de observações;\n",
    "* $\\widehat{y}_{i}$ é o valor predito pelo modelo para a i-ésima observação obtida em $x_{i}$;\n",
    "* $\\overline{y}$ é a média de todas as observações;\n",
    "* $k$ é o número de parâmetros associados à regressão;\n",
    "* $y_{i}$ é a i-ésima observação obtida em $x_{i}$;\n",
    "* $n_{p}$ é o número de parâmetros do modelo;"
   ]
  },
  {
   "cell_type": "markdown",
   "id": "00b7655e-a8d7-42c9-b194-3bba7adacb44",
   "metadata": {},
   "source": [
    "## Valor crítico ($Ftab$)\n",
    "\n",
    "$$Ftab = F_{1-\\alpha; \\, a-k; \\, n-n_{p}}$$\n",
    "\n",
    "Obtido da distribuição F unilateral à direita com $k$ e $n-n_{p}$ graus de liberdade. Onde\n",
    "\n",
    "* $n$ é o número total de observações;\n",
    "* $k$ é o número de parâmetros associados à regressão;\n",
    "* $n_{p}$ é o número de parâmetros do modelo;\n",
    "* $\\alpha$ é o nível de significância adotado;"
   ]
  },
  {
   "cell_type": "markdown",
   "id": "d9a2fa32-08af-4f22-b211-3b6d32892dbc",
   "metadata": {},
   "source": [
    "### Código"
   ]
  },
  {
   "cell_type": "code",
   "execution_count": null,
   "id": "8d2ab643-627e-453b-8004-94178d0b427e",
   "metadata": {},
   "outputs": [],
   "source": [
    "## Valor crítico ($Ftab$)\n",
    "\n",
    "$$Ftab = F_{1-\\alpha; \\, a-k; \\, n-n_{p}}$$\n",
    "\n",
    "Obtido da distribuição F unilateral à direita com $k$ e $n-n_{p}$ graus de liberdade. Onde\n",
    "\n",
    "* $n$ é o número total de observações;\n",
    "* $k$ é o número de parâmetros associados à regressão;\n",
    "* $n_{p}$ é o número de parâmetros do modelo;\n",
    "* $\\alpha$ é o nível de significância adotado;"
   ]
  },
  {
   "cell_type": "markdown",
   "id": "9c4ea91c-3ba6-40a2-b936-974138f9ee52",
   "metadata": {},
   "source": [
    "## Conclusão do teste utilizando o $pvalor$\n",
    "\n",
    "* Se $pvalor < \\alpha$, rejeita $H_{0}$;\n",
    "* Se $pvalor \\geq \\alpha$, falha em rejeitar $H_{0}$;"
   ]
  },
  {
   "cell_type": "markdown",
   "id": "d8b51ffb-f25f-46db-b353-73d0f88021b6",
   "metadata": {},
   "source": [
    "### Código"
   ]
  },
  {
   "cell_type": "code",
   "execution_count": null,
   "id": "29265ea0-62b2-4b47-9159-38c8be74fab0",
   "metadata": {},
   "outputs": [],
   "source": [
    "## Conclusão do teste utilizando o $pvalor$\n",
    "\n",
    "* Se $pvalor < \\alpha$, rejeita $H_{0}$;\n",
    "* Se $pvalor \\geq \\alpha$, falha em rejeitar $H_{0}$;"
   ]
  },
  {
   "cell_type": "markdown",
   "id": "449e358e-625d-444f-a948-734e92062a4d",
   "metadata": {},
   "source": [
    "## Conclusão do teste utilizando a estatística do teste ($Fcalc$)\n",
    "\n",
    "* Se $Fcalc > F_{1-\\alpha; \\, a-k; \\, n-n_{p}}$, rejeita $H_{0}$;\n",
    "* Se $Fcalc \\leq F_{1-\\alpha; \\, a-k; \\, n-n_{p}}$, falha em rejeitar $H_{0}$;"
   ]
  },
  {
   "cell_type": "markdown",
   "id": "6481fdf4-b6e7-4f97-a6da-5155fe645df2",
   "metadata": {},
   "source": [
    "### Código"
   ]
  },
  {
   "cell_type": "code",
   "execution_count": null,
   "id": "f8271753-ebb0-46be-8e2b-e82d95ee4e13",
   "metadata": {},
   "outputs": [],
   "source": [
    "## Conclusão do teste utilizando a estatística do teste ($Fcalc$)\n",
    "\n",
    "* Se $Fcalc > F_{1-\\alpha; \\, a-k; \\, n-n_{p}}$, rejeita $H_{0}$;\n",
    "* Se $Fcalc \\leq F_{1-\\alpha; \\, a-k; \\, n-n_{p}}$, falha em rejeitar $H_{0}$;"
   ]
  }
 ],
 "metadata": {
  "kernelspec": {
   "display_name": "Python 3 (ipykernel)",
   "language": "python",
   "name": "python3"
  },
  "language_info": {
   "codemirror_mode": {
    "name": "ipython",
    "version": 3
   },
   "file_extension": ".py",
   "mimetype": "text/x-python",
   "name": "python",
   "nbconvert_exporter": "python",
   "pygments_lexer": "ipython3",
   "version": "3.9.10"
  }
 },
 "nbformat": 4,
 "nbformat_minor": 5
}
