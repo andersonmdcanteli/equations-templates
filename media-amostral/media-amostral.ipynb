{
 "cells": [
  {
   "cell_type": "markdown",
   "id": "68c8761a-9f26-4b3a-b132-8a6047197de8",
   "metadata": {},
   "source": [
    "# Média amostral\n",
    "\n",
    "$$\\overline{x} = \\frac{1}{n} \\sum_{i=1}^{n} x_{i} $$\n",
    "\n",
    "onde:\n",
    "- $n$ é o número total de observações da amostra;\n",
    "- $x_{i}$ é o valor da i-ésima observação da amostra;"
   ]
  },
  {
   "cell_type": "markdown",
   "id": "3d676dc6-9302-4f12-a152-8afd1811d8c5",
   "metadata": {},
   "source": [
    "## Código"
   ]
  },
  {
   "cell_type": "code",
   "execution_count": null,
   "id": "b4ebcad1-69a7-44c8-84ba-6bd5181d7bbd",
   "metadata": {},
   "outputs": [],
   "source": [
    "# Média amostral\n",
    "\n",
    "$$\\overline{x} = \\frac{1}{n} \\sum_{i=1}^{n} x_{i} $$\n",
    "\n",
    "onde:\n",
    "- $n$ é o número total de observações da amostra;\n",
    "- $x_{i}$ é o valor da i-ésima observação da amostra;"
   ]
  }
 ],
 "metadata": {
  "kernelspec": {
   "display_name": "Python 3 (ipykernel)",
   "language": "python",
   "name": "python3"
  },
  "language_info": {
   "codemirror_mode": {
    "name": "ipython",
    "version": 3
   },
   "file_extension": ".py",
   "mimetype": "text/x-python",
   "name": "python",
   "nbconvert_exporter": "python",
   "pygments_lexer": "ipython3",
   "version": "3.9.10"
  }
 },
 "nbformat": 4,
 "nbformat_minor": 5
}
