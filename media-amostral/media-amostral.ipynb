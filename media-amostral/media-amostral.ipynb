{
 "cells": [
  {
   "cell_type": "markdown",
   "id": "68c8761a-9f26-4b3a-b132-8a6047197de8",
   "metadata": {},
   "source": [
    "# Média populacional\n",
    "\n",
    "$$\\overline{\\mu} = \\frac{1}{N} \\sum_{i=1}^{N} X_{i} $$\n",
    "\n",
    "onde:\n",
    "- $N$ é o tamanho da população;\n",
    "- $X_{i}$ é o valor da i-ésima observação da população;"
   ]
  },
  {
   "cell_type": "markdown",
   "id": "3d676dc6-9302-4f12-a152-8afd1811d8c5",
   "metadata": {},
   "source": [
    "## Código"
   ]
  },
  {
   "cell_type": "code",
   "execution_count": null,
   "id": "b4ebcad1-69a7-44c8-84ba-6bd5181d7bbd",
   "metadata": {
    "tags": []
   },
   "outputs": [],
   "source": [
    "# Média populacional\n",
    "\n",
    "$$\\overline{\\mu} = \\frac{1}{N} \\sum_{i=1}^{N} X_{i} $$\n",
    "\n",
    "onde:\n",
    "- $N$ é o tamanho da população;\n",
    "- $X_{i}$ é o valor da i-ésima observação da população;"
   ]
  }
 ],
 "metadata": {
  "kernelspec": {
   "display_name": "Python 3 (ipykernel)",
   "language": "python",
   "name": "python3"
  },
  "language_info": {
   "codemirror_mode": {
    "name": "ipython",
    "version": 3
   },
   "file_extension": ".py",
   "mimetype": "text/x-python",
   "name": "python",
   "nbconvert_exporter": "python",
   "pygments_lexer": "ipython3",
   "version": "3.9.10"
  }
 },
 "nbformat": 4,
 "nbformat_minor": 5
}
