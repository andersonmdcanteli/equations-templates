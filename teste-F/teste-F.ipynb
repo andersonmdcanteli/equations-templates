{
 "cells": [
  {
   "cell_type": "markdown",
   "id": "6f5d587b-9ca2-4d6a-9081-83b2714c78f4",
   "metadata": {},
   "source": [
    "# Teste F para variâncias ( $F_{calc}$ )\n",
    "\n",
    "$$ F_{calc} = \\frac{s_{max}^{2}}{s_{min}^{2}} $$\n",
    "\n",
    "onde:\n",
    "- $s_{max}^{2}$ é a variância da amostra com maior variância;\n",
    "- $s_{min}^{2}$ é a variância da amostra com menor variância;\n",
    "\n",
    "Hipóteses:\n",
    "\n",
    "$$H_{0}: \\sigma_{max}^{2} = \\sigma_{min}^{2}$$\n",
    "$$H_{1}: \\sigma_{max}^{2} > \\sigma_{min}^{2}$$"
   ]
  },
  {
   "cell_type": "markdown",
   "id": "ac610cda-26e9-4d13-a0ce-a701d9f3a6c4",
   "metadata": {},
   "source": [
    "## Código"
   ]
  },
  {
   "cell_type": "code",
   "execution_count": null,
   "id": "1e561149-4966-47fe-ab97-08bc82a758fd",
   "metadata": {},
   "outputs": [],
   "source": [
    "# Teste F para variâncias ( $F_{calc}$ )\n",
    "\n",
    "$$ F_{calc} = \\frac{s_{max}^{2}}{s_{min}^{2}} $$\n",
    "\n",
    "onde:\n",
    "- $s_{max}^{2}$ é a variância da amostra com maior variância;\n",
    "- $s_{min}^{2}$ é a variância da amostra com menor variância;\n",
    "\n",
    "Hipóteses:\n",
    "\n",
    "$$H_{0}: \\sigma_{max}^{2} = \\sigma_{min}^{2}$$\n",
    "$$H_{1}: \\sigma_{max}^{2} > \\sigma_{min}^{2}$$"
   ]
  },
  {
   "cell_type": "markdown",
   "id": "ddb86110-e521-4b0a-a28b-0da39dc6449e",
   "metadata": {},
   "source": [
    "# Teste F para variâncias ( $F_{calc}$ )\n",
    "\n",
    "$$ F_{calc} = \\frac{s_{1}^{2}}{s_{2}^{2}} $$\n",
    "\n",
    "onde:\n",
    "- $s_{1}^{2}$ é a variância da amostra com maior variância;\n",
    "- $s_{2}^{2}$ é a variância da amostra com menor variância;\n",
    "\n",
    "Hipóteses:\n",
    "\n",
    "$$H_{0}: \\sigma_{1}^{2} = \\sigma_{2}^{2}$$\n",
    "$$H_{1}: \\sigma_{1}^{2} > \\sigma_{2}^{2}$$"
   ]
  },
  {
   "cell_type": "markdown",
   "id": "bbf19aeb-0201-459e-8e61-792cc9dc836e",
   "metadata": {},
   "source": [
    "## Código"
   ]
  },
  {
   "cell_type": "code",
   "execution_count": null,
   "id": "8d696600-3514-4b94-9e63-11f8fa075793",
   "metadata": {},
   "outputs": [],
   "source": [
    "# Teste F para variâncias ( $F_{calc}$ )\n",
    "\n",
    "$$ F_{calc} = \\frac{s_{1}^{2}}{s_{2}^{2}} $$\n",
    "\n",
    "onde:\n",
    "- $s_{1}^{2}$ é a variância da amostra com maior variância;\n",
    "- $s_{2}^{2}$ é a variância da amostra com menor variância;\n",
    "\n",
    "Hipóteses:\n",
    "\n",
    "$$H_{0}: \\sigma_{1}^{2} = \\sigma_{2}^{2}$$\n",
    "$$H_{1}: \\sigma_{1}^{2} > \\sigma_{2}^{2}$$"
   ]
  }
 ],
 "metadata": {
  "kernelspec": {
   "display_name": "Python 3 (ipykernel)",
   "language": "python",
   "name": "python3"
  },
  "language_info": {
   "codemirror_mode": {
    "name": "ipython",
    "version": 3
   },
   "file_extension": ".py",
   "mimetype": "text/x-python",
   "name": "python",
   "nbconvert_exporter": "python",
   "pygments_lexer": "ipython3",
   "version": "3.9.10"
  }
 },
 "nbformat": 4,
 "nbformat_minor": 5
}
