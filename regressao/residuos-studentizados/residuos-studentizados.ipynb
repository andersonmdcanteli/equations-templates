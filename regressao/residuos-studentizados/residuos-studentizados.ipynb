{
 "cells": [
  {
   "cell_type": "markdown",
   "id": "56e602e3-7b28-4553-b2c6-d334d8f0e2ba",
   "metadata": {},
   "source": [
    "# Resíduos studentizados ($resíduos \\; studentizados$)\n",
    "\n",
    "$$resíduos \\; studentizados_{i} = \\frac{resíduo_{i}}{\\sqrt{MSQE \\times \\left( 1 - h_{ii} \\right)}}$$\n",
    "\n",
    "onde:\n",
    "* $resíduo_{i}$ é o resíduo da i-ésima observação;\n",
    "* $MSQE$ é a média dos quadrados dos erros;\n",
    "* $h_{ii}$ é a alavancagem da i-ésima observação;"
   ]
  },
  {
   "cell_type": "markdown",
   "id": "2362b270-1107-48ff-a860-759e08646efd",
   "metadata": {},
   "source": [
    "## Código"
   ]
  },
  {
   "cell_type": "code",
   "execution_count": null,
   "id": "ea9f6fcf-d654-4722-b351-d16a5e0e905d",
   "metadata": {},
   "outputs": [],
   "source": [
    "# Resíduos studentizados ($resíduos \\; studentizados$)\n",
    "\n",
    "$$resíduos \\; studentizados_{i} = \\frac{resíduo_{i}}{\\sqrt{MSQE \\times \\left( 1 - h_{ii} \\right)}}$$\n",
    "\n",
    "onde:\n",
    "* $resíduo_{i}$ é o resíduo da i-ésima observação;\n",
    "* $MSQE$ é a média dos quadrados dos erros;\n",
    "* $h_{ii}$ é a alavancagem da i-ésima observação;"
   ]
  },
  {
   "cell_type": "markdown",
   "id": "e45016c2-2dbc-43a3-a7c8-bd97d0509c04",
   "metadata": {},
   "source": [
    "# Resíduos studentizados ($resíduos \\; studentizados$)\n",
    "\n",
    "$$resíduos \\; studentizados_{i} = \\frac{y_{i} - \\widehat{y_{i}}}{\\sqrt{MSQE \\times \\left( 1 - h_{ii} \\right)}}$$\n",
    "\n",
    "onde:\n",
    "* $y_{i}$ é a i-ésima observação;\n",
    "* $\\widehat{y_{i}}$ é o valor predito pelo modelo para a i-ésima observação;\n",
    "* $MSQE$ é a média dos quadrados dos erros;\n",
    "* $h_{ii}$ é a alavancagem da i-ésima observação;"
   ]
  },
  {
   "cell_type": "markdown",
   "id": "1d94e1e5-27d1-4bac-bb59-f8c9e62b787e",
   "metadata": {},
   "source": [
    "## Código"
   ]
  },
  {
   "cell_type": "code",
   "execution_count": null,
   "id": "86b5ca33-79d2-4556-abb2-6e357dd9b7b8",
   "metadata": {},
   "outputs": [],
   "source": [
    "# Resíduos studentizados ($resíduos \\; studentizados$)\n",
    "\n",
    "$$resíduos \\; studentizados_{i} = \\frac{y_{i} - \\widehat{y_{i}}}{\\sqrt{MSQE \\times \\left( 1 - h_{ii} \\right)}}$$\n",
    "\n",
    "onde:\n",
    "* $y_{i}$ é a i-ésima observação;\n",
    "* $\\widehat{y_{i}}$ é o valor predito pelo modelo para a i-ésima observação;\n",
    "* $MSQE$ é a média dos quadrados dos erros;\n",
    "* $h_{ii}$ é a alavancagem da i-ésima observação;"
   ]
  },
  {
   "cell_type": "markdown",
   "id": "1cd54ed4-bdd2-4ca8-b6b2-7de4043ae426",
   "metadata": {},
   "source": [
    "# Resíduos studentizados ($r$)\n",
    "\n",
    "$$r_{i} = \\frac{y_{i} - \\widehat{y_{i}}}{\\sqrt{\\frac{\\sum_{i=1}^{n} \\left(y_{i} - \\widehat{y}_{i} \\right)^{2}}{n-n_{p}} \\times \\left( 1 - h_{ii} \\right)}}$$\n",
    "\n",
    "onde:\n",
    "* $y_{i}$ é a i-ésima observação;\n",
    "* $\\widehat{y_{i}}$ é o valor predito pelo modelo para a i-ésima observação;\n",
    "* $n$ é o número total de observações;\n",
    "* $n_{p}$ é o número de parâmetros do modelo;\n",
    "* $h_{ii}$ é a alavancagem da i-ésima observação;"
   ]
  },
  {
   "cell_type": "markdown",
   "id": "53e7e9af-928f-43e8-ad08-eefc2598e4f8",
   "metadata": {},
   "source": [
    "## Código"
   ]
  },
  {
   "cell_type": "code",
   "execution_count": null,
   "id": "1280b62a-f42c-4baf-9e13-7505ab55f1b4",
   "metadata": {},
   "outputs": [],
   "source": [
    "# Resíduos studentizados ($r$)\n",
    "\n",
    "$$r_{i} = \\frac{y_{i} - \\widehat{y_{i}}}{\\sqrt{\\frac{\\sum_{i=1}^{n} \\left(y_{i} - \\widehat{y}_{i} \\right)^{2}}{n-n_{p}} \\times \\left( 1 - h_{ii} \\right)}}$$\n",
    "\n",
    "onde:\n",
    "* $y_{i}$ é a i-ésima observação;\n",
    "* $\\widehat{y_{i}}$ é o valor predito pelo modelo para a i-ésima observação;\n",
    "* $n$ é o número total de observações;\n",
    "* $n_{p}$ é o número de parâmetros do modelo;\n",
    "* $h_{ii}$ é a alavancagem da i-ésima observação;"
   ]
  }
 ],
 "metadata": {
  "kernelspec": {
   "display_name": "Python 3 (ipykernel)",
   "language": "python",
   "name": "python3"
  },
  "language_info": {
   "codemirror_mode": {
    "name": "ipython",
    "version": 3
   },
   "file_extension": ".py",
   "mimetype": "text/x-python",
   "name": "python",
   "nbconvert_exporter": "python",
   "pygments_lexer": "ipython3",
   "version": "3.9.10"
  }
 },
 "nbformat": 4,
 "nbformat_minor": 5
}
