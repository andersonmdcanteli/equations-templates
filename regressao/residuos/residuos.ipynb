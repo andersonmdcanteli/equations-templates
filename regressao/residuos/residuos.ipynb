{
 "cells": [
  {
   "cell_type": "markdown",
   "id": "8fd2d006-f073-4491-8449-8f81dd90add5",
   "metadata": {},
   "source": [
    "# Resíduos ($residuos$)\n",
    "\n",
    "$$resíduo_{i} = y_{i} - \\widehat{y_{i}}$$\n",
    "\n",
    "onde:\n",
    "* $y_{i}$ é a i-ésima observação da variável dependente;\n",
    "* $\\widehat{y_{i}}$ é o valor predito pelo modelo para a i-ésima observação da variável dependente;"
   ]
  },
  {
   "cell_type": "markdown",
   "id": "550ac000-abb6-455a-bb11-3bc669cb69d0",
   "metadata": {},
   "source": [
    "## Código"
   ]
  },
  {
   "cell_type": "code",
   "execution_count": null,
   "id": "78c14b5b-4a52-4bc9-b89f-0aa6041c9917",
   "metadata": {},
   "outputs": [],
   "source": [
    "# Resíduos ($residuos$)\n",
    "\n",
    "$$resíduo_{i} = y_{i} - \\widehat{y_{i}}$$\n",
    "\n",
    "onde:\n",
    "* $y_{i}$ é a i-ésima observação da variável dependente;\n",
    "* $\\widehat{y_{i}}$ é o valor predito pelo modelo para a i-ésima observação da variável dependente;"
   ]
  },
  {
   "cell_type": "markdown",
   "id": "f2324122-9f44-4daa-82ff-6e3f0a2e5422",
   "metadata": {
    "tags": []
   },
   "source": [
    "# Resíduos ($e$)\n",
    "\n",
    "$$e_{i} = y_{i} - \\widehat{y_{i}}$$\n",
    "\n",
    "onde:\n",
    "* $y_{i}$ é a i-ésima observação da variável dependente;\n",
    "* $\\widehat{y_{i}}$ é o valor predito pelo modelo para a i-ésima observação da variável dependente;"
   ]
  },
  {
   "cell_type": "markdown",
   "id": "73b17dcf-ed90-43b1-9540-ed5fc5d221f7",
   "metadata": {},
   "source": [
    "## Código"
   ]
  },
  {
   "cell_type": "code",
   "execution_count": null,
   "id": "33385b5f-c075-41f3-b9e5-c310e8e88a11",
   "metadata": {},
   "outputs": [],
   "source": [
    "# Resíduos ($e$)\n",
    "\n",
    "$$e_{i} = y_{i} - \\widehat{y_{i}}$$\n",
    "\n",
    "onde:\n",
    "* $y_{i}$ é a i-ésima observação da variável dependente;\n",
    "* $\\widehat{y_{i}}$ é o valor predito pelo modelo para a i-ésima observação da variável dependente;"
   ]
  }
 ],
 "metadata": {
  "kernelspec": {
   "display_name": "Python 3 (ipykernel)",
   "language": "python",
   "name": "python3"
  },
  "language_info": {
   "codemirror_mode": {
    "name": "ipython",
    "version": 3
   },
   "file_extension": ".py",
   "mimetype": "text/x-python",
   "name": "python",
   "nbconvert_exporter": "python",
   "pygments_lexer": "ipython3",
   "version": "3.9.10"
  }
 },
 "nbformat": 4,
 "nbformat_minor": 5
}
