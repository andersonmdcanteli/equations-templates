{
 "cells": [
  {
   "cell_type": "markdown",
   "id": "583092ee-1fea-4e08-b405-038ef2953805",
   "metadata": {},
   "source": [
    "# Resíduos studentizados deletados ($resíduos \\; deletados$)\n",
    "\n",
    "$$resíduo \\; deletado = \\frac{resíduo_{i}}{\\sqrt{MSQE_{i} \\left(1 - h_{ii} \\right)}}$$\n",
    "\n",
    "onde:\n",
    "* $resíduo_{i}$ é o resíduo da i-ésima observação;\n",
    "* $MSQE_{i}$ é a média dos quadrados dos erros excluindo a i-ésima observação;\n",
    "* $h_{ii}$ é a alavancagem da i-ésima observação;"
   ]
  },
  {
   "cell_type": "markdown",
   "id": "05582e4e-819d-4cea-919f-f0dde4b7e6bb",
   "metadata": {},
   "source": [
    "## Código"
   ]
  },
  {
   "cell_type": "code",
   "execution_count": null,
   "id": "5454faaa-de06-43fb-9db9-eb6863fa1609",
   "metadata": {},
   "outputs": [],
   "source": [
    "# Resíduos studentizados deletados ($resíduos \\; deletados$)\n",
    "\n",
    "$$resíduo \\; deletado = \\frac{resíduo_{i}}{\\sqrt{MSQE_{i} \\left(1 - h_{ii} \\right)}}$$\n",
    "\n",
    "onde:\n",
    "* $resíduo_{i}$ é o resíduo da i-ésima observação;\n",
    "* $MSQE_{i}$ é a média dos quadrados dos erros excluindo a i-ésima observação;\n",
    "* $h_{ii}$ é a alavancagem da i-ésima observação;"
   ]
  },
  {
   "cell_type": "markdown",
   "id": "0f7f14a1-9e95-469a-8ae5-c4c49de7a596",
   "metadata": {},
   "source": [
    "# Resíduos studentizados deletados ($resíduos \\; deletados$)\n",
    "\n",
    "$$resíduo \\; deletado = resíduo \\; studentizado_{i}\\sqrt{\\frac{n - n_{param} - 1}{n - n_{param} - resíduo \\; studentizado_{i}^{2}}}$$\n",
    "\n",
    "onde:\n",
    "* $resíduo \\; studentizado_{i}$ é o resíduo studentizado da i-ésima observação;\n",
    "* $n$ é o número total de observações;\n",
    "* $n_{param}$ é o número de parâmetros do modelo;"
   ]
  },
  {
   "cell_type": "markdown",
   "id": "2d71a06f-04b0-4eed-a46e-05eb978d38e1",
   "metadata": {},
   "source": [
    "## Código"
   ]
  },
  {
   "cell_type": "code",
   "execution_count": null,
   "id": "87aaf965-ecb3-434b-9ec3-5bb99c30624e",
   "metadata": {},
   "outputs": [],
   "source": [
    "# Resíduos studentizados deletados ($resíduos \\; deletados$)\n",
    "\n",
    "$$resíduo \\; deletado = resíduo \\; studentizado_{i}\\sqrt{\\frac{n - n_{param} - 1}{n - n_{param} - resíduo \\; studentizado_{i}^{2}}}$$\n",
    "\n",
    "onde:\n",
    "* $resíduo \\; studentizado_{i}$ é o resíduo studentizado da i-ésima observação;\n",
    "* $n$ é o número total de observações;\n",
    "* $n_{param}$ é o número de parâmetros do modelo;"
   ]
  },
  {
   "cell_type": "markdown",
   "id": "11ac9166-c711-46c6-8e87-f06d5b99cd42",
   "metadata": {},
   "source": [
    "# Resíduos studentizados deletados ($t$)\n",
    "\n",
    "$$t_{i} = \\frac{y_{i} - \\widehat{y_{i}}}{\\sqrt{\\frac{ \\left( \\left(n - n_{param} \\right) MSQE - \\frac{y_{i} - \\widehat{y_{i}}}{1 - h_{ii}} \\right)  \\left(1 - h_{ii} \\right)    }     {n - n_{param} - 1}      }}$$\n",
    "\n",
    "onde:\n",
    "* $y_{i}$ é a i-ésima observação;\n",
    "* $\\widehat{y_{i}}$ é o valor predito pelo modelo para a i-ésima observação;\n",
    "* $MSQE$ é a média dos quadrados dos erros;\n",
    "* $h_{ii}$ é a alavancagem da i-ésima observação;\n",
    "* $n$ é o número total de observações;\n",
    "* $n_{param}$ é o número de parâmetros do modelo;"
   ]
  },
  {
   "cell_type": "markdown",
   "id": "c2b4a39f-6703-450c-9e5d-0d78b0070793",
   "metadata": {},
   "source": [
    "## Código"
   ]
  },
  {
   "cell_type": "code",
   "execution_count": null,
   "id": "e386d327-1d21-44be-8c51-1fbacc69e8d4",
   "metadata": {},
   "outputs": [],
   "source": [
    "# Resíduos studentizados deletados ($t$)\n",
    "\n",
    "$$t_{i} = \\frac{y_{i} - \\widehat{y_{i}}}{\\sqrt{\\frac{ \\left( \\left(n - n_{param} \\right) MSQE - \\frac{y_{i} - \\widehat{y_{i}}}{1 - h_{ii}} \\right)  \\left(1 - h_{ii} \\right)    }     {n - n_{param} - 1}      }}$$\n",
    "\n",
    "onde:\n",
    "* $y_{i}$ é a i-ésima observação;\n",
    "* $\\widehat{y_{i}}$ é o valor predito pelo modelo para a i-ésima observação;\n",
    "* $MSQE$ é a média dos quadrados dos erros;\n",
    "* $h_{ii}$ é a alavancagem da i-ésima observação;\n",
    "* $n$ é o número total de observações;\n",
    "* $n_{param}$ é o número de parâmetros do modelo;"
   ]
  }
 ],
 "metadata": {
  "kernelspec": {
   "display_name": "Python 3 (ipykernel)",
   "language": "python",
   "name": "python3"
  },
  "language_info": {
   "codemirror_mode": {
    "name": "ipython",
    "version": 3
   },
   "file_extension": ".py",
   "mimetype": "text/x-python",
   "name": "python",
   "nbconvert_exporter": "python",
   "pygments_lexer": "ipython3",
   "version": "3.9.10"
  }
 },
 "nbformat": 4,
 "nbformat_minor": 5
}
