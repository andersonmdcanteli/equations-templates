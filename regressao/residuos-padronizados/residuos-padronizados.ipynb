{
 "cells": [
  {
   "cell_type": "markdown",
   "id": "5d5bf33c-dc3b-4f58-a37d-7bb3f1d93883",
   "metadata": {},
   "source": [
    "# Resíduos padronizados ($resíduos padronizados$)\n",
    "\n",
    "$$resíduos \\; padronizados_{i} = \\frac{y_{i} - \\widehat{y_{i}}}{\\sqrt{MSQE}}$$\n",
    "\n",
    "onde:\n",
    "onde:\n",
    "* $y_{i}$ é a i-ésima observação;\n",
    "* $\\widehat{y_{i}}$ é o valor predito pelo modelo para a i-ésima observação;\n",
    "* $MSQE$ é a média dos quadrados dos erros;"
   ]
  },
  {
   "cell_type": "markdown",
   "id": "52d12b49-4e5f-404d-b0bc-9a6a7a777b7a",
   "metadata": {},
   "source": [
    "## Código"
   ]
  },
  {
   "cell_type": "code",
   "execution_count": null,
   "id": "e1381825-5a8a-493b-a703-7fd8469f5787",
   "metadata": {},
   "outputs": [],
   "source": [
    "# Resíduos padronizados ($resíduos padronizados$)\n",
    "\n",
    "$$resíduos \\; padronizados_{i} = \\frac{y_{i} - \\widehat{y_{i}}}{\\sqrt{MSQE}}$$\n",
    "\n",
    "onde:\n",
    "onde:\n",
    "* $y_{i}$ é a i-ésima observação;\n",
    "* $\\widehat{y_{i}}$ é o valor predito pelo modelo para a i-ésima observação;\n",
    "* $MSQE$ é a média dos quadrados dos erros;"
   ]
  },
  {
   "cell_type": "markdown",
   "id": "c6850ee6-77c0-42fb-b7de-6aa88cb4e974",
   "metadata": {},
   "source": [
    "# Resíduos padronizados ($resíduos padronizados$)\n",
    "\n",
    "$$resíduos \\; padronizados_{i} = \\frac{e_{i}}{MSQE}$$\n",
    "\n",
    "onde:\n",
    "* $e_{i}$ é o resíduo da i-ésima observação;\n",
    "* $MSQE$ é a média dos quadrados dos erros;"
   ]
  },
  {
   "cell_type": "markdown",
   "id": "b5560fa5-5d73-4b80-b193-4f29017f0bb7",
   "metadata": {},
   "source": [
    "## Código"
   ]
  },
  {
   "cell_type": "code",
   "execution_count": null,
   "id": "a6556f7c-1781-4b35-acc0-abe524b2e91c",
   "metadata": {},
   "outputs": [],
   "source": [
    "# Resíduos padronizados ($resíduos padronizados$)\n",
    "\n",
    "$$resíduos \\; padronizados_{i} = \\frac{e_{i}}{MSQE}$$\n",
    "\n",
    "onde:\n",
    "* $e_{i}$ é o resíduo da i-ésima observação;\n",
    "* $MSQE$ é a média dos quadrados dos erros;"
   ]
  },
  {
   "cell_type": "markdown",
   "id": "76f9d8b0-9c4a-4eea-bfe6-d2ddfb9940df",
   "metadata": {},
   "source": [
    "# Resíduos padronizados ($d$)\n",
    "\n",
    "$$d_{i} = \\frac{y_{i} - \\widehat{y_{i}}}{\\frac{\\sum_{i=1}^{n} \\left(\\widehat{y}_{i} - y_{i} \\right)^{2}}{n-n_{p}}}$$\n",
    "\n",
    "onde:\n",
    "* $y_{i}$ é a i-ésima observação;\n",
    "* $\\widehat{y_{i}}$ é o valor predito pelo modelo para a i-ésima observação;\n",
    "* $n$ é o número total de observações;\n",
    "* $n_{p}$ é o número de parâmetros do modelo;"
   ]
  },
  {
   "cell_type": "markdown",
   "id": "00068667-d1af-49bd-be81-0a3ba7197c69",
   "metadata": {},
   "source": [
    "## Código"
   ]
  },
  {
   "cell_type": "code",
   "execution_count": null,
   "id": "109fd313-8c7d-40a5-9f43-7019ed604ff3",
   "metadata": {},
   "outputs": [],
   "source": [
    "# Resíduos padronizados ($d$)\n",
    "\n",
    "$$d_{i} = \\frac{y_{i} - \\widehat{y_{i}}}{\\frac{\\sum_{i=1}^{n} \\left(\\widehat{y}_{i} - y_{i} \\right)^{2}}{n-n_{p}}}$$\n",
    "\n",
    "onde:\n",
    "* $y_{i}$ é a i-ésima observação;\n",
    "* $\\widehat{y_{i}}$ é o valor predito pelo modelo para a i-ésima observação;\n",
    "* $n$ é o número total de observações;\n",
    "* $n_{p}$ é o número de parâmetros do modelo;"
   ]
  }
 ],
 "metadata": {
  "kernelspec": {
   "display_name": "Python 3 (ipykernel)",
   "language": "python",
   "name": "python3"
  },
  "language_info": {
   "codemirror_mode": {
    "name": "ipython",
    "version": 3
   },
   "file_extension": ".py",
   "mimetype": "text/x-python",
   "name": "python",
   "nbconvert_exporter": "python",
   "pygments_lexer": "ipython3",
   "version": "3.9.10"
  }
 },
 "nbformat": 4,
 "nbformat_minor": 5
}
