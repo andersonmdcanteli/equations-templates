{
 "cells": [
  {
   "cell_type": "markdown",
   "id": "30059116-991f-47d6-a273-ba1b1055bd7e",
   "metadata": {},
   "source": [
    "# Limite moderado para alavancagem ($critico_{moderado}$)\n",
    "\n",
    "$$critico_{moderado} = \\frac{fator \\times n_{param}}{n}$$\n",
    "\n",
    "onde:\n",
    "* $n$ é o número total de observações;\n",
    "* $n_{param}$ é o número de parâmetros do modelo;\n",
    "* $fator$ é um valor pré-determinado (e.g. $fator=2$);"
   ]
  },
  {
   "cell_type": "markdown",
   "id": "4aac660b-be49-4328-931d-ca4821850c63",
   "metadata": {},
   "source": [
    "## Código"
   ]
  },
  {
   "cell_type": "code",
   "execution_count": null,
   "id": "b5dac631-901a-40c3-9623-7643ac89ba2e",
   "metadata": {},
   "outputs": [],
   "source": [
    "# Limite moderado para alavancagem ($critico_{moderado}$)\n",
    "\n",
    "$$critico_{moderado} = \\frac{fator \\times n_{param}}{n}$$\n",
    "\n",
    "onde:\n",
    "* $n$ é o número total de observações;\n",
    "* $n_{param}$ é o número de parâmetros do modelo;\n",
    "* $fator$ é um valor pré-determinado (e.g. $fator=2$);"
   ]
  }
 ],
 "metadata": {
  "kernelspec": {
   "display_name": "Python 3 (ipykernel)",
   "language": "python",
   "name": "python3"
  },
  "language_info": {
   "codemirror_mode": {
    "name": "ipython",
    "version": 3
   },
   "file_extension": ".py",
   "mimetype": "text/x-python",
   "name": "python",
   "nbconvert_exporter": "python",
   "pygments_lexer": "ipython3",
   "version": "3.9.10"
  }
 },
 "nbformat": 4,
 "nbformat_minor": 5
}
