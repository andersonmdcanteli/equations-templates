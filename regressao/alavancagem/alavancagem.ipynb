{
 "cells": [
  {
   "cell_type": "markdown",
   "id": "8dd2e8bc-9a10-48ac-9ec0-84b21a65bb5e",
   "metadata": {},
   "source": [
    "# Alavancagem ($h_{ii}$)\n",
    "\n",
    "$$h_{ii} = \\frac{1}{n} + \\frac{  \\left( x_{i} - \\overline{x} \\right)^{2} }{\\sum_{i=1}^{n} \\left( x_{i} - \\overline{x} \\right)^{2}}$$\n",
    "\n",
    "onde:\n",
    "* $n$ é o número total de observações;\n",
    "* $x_{i}$ é a i-ésima observação da variável independente;\n",
    "* $\\overline{x}$ é a média da variável independente;"
   ]
  },
  {
   "cell_type": "markdown",
   "id": "4263c84a-3fd5-4a2e-9465-aefb972c38f4",
   "metadata": {},
   "source": [
    "## Código"
   ]
  },
  {
   "cell_type": "code",
   "execution_count": null,
   "id": "8c4d757b-9d7d-406a-8683-a8aa53d894a1",
   "metadata": {},
   "outputs": [],
   "source": [
    "# Alavancagem ($h_{ii}$)\n",
    "\n",
    "$$h_{ii} = \\frac{1}{n} + \\frac{  \\left( x_{i} - \\overline{x} \\right)^{2} }{\\sum_{i=1}^{n} \\left( x_{i} - \\overline{x} \\right)^{2}}$$\n",
    "\n",
    "onde:\n",
    "* $n$ é o número total de observações;\n",
    "* $x_{i}$ é a i-ésima observação da variável independente;\n",
    "* $\\overline{x}$ é a média da variável independente;"
   ]
  }
 ],
 "metadata": {
  "kernelspec": {
   "display_name": "Python 3 (ipykernel)",
   "language": "python",
   "name": "python3"
  },
  "language_info": {
   "codemirror_mode": {
    "name": "ipython",
    "version": 3
   },
   "file_extension": ".py",
   "mimetype": "text/x-python",
   "name": "python",
   "nbconvert_exporter": "python",
   "pygments_lexer": "ipython3",
   "version": "3.9.10"
  }
 },
 "nbformat": 4,
 "nbformat_minor": 5
}
