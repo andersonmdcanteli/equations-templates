{
 "cells": [
  {
   "cell_type": "markdown",
   "id": "68c8761a-9f26-4b3a-b132-8a6047197de8",
   "metadata": {
    "tags": []
   },
   "source": [
    "# The Langmuir model (1918)\n",
    "\n",
    "$$q_{eq}=\\frac{q_{L}K_{L}C_{eq}}{1 + K_{L}C_{eq}}$$\n",
    "\n",
    "where:\n",
    "\n",
    "- $q_{eq}$ is the adsorbate concentration in the solid phase at equilibrium;\n",
    "- $C_{eq}$ is the adsorbate concentration in the fluid phase at equilibrium;\n",
    "- $q_{L}$ is the maximum adsorption capacity of the monolayer;\n",
    "- $K_{L}$ is the model constant;"
   ]
  },
  {
   "cell_type": "markdown",
   "id": "3d676dc6-9302-4f12-a152-8afd1811d8c5",
   "metadata": {},
   "source": [
    "## Código"
   ]
  },
  {
   "cell_type": "code",
   "execution_count": null,
   "id": "b4ebcad1-69a7-44c8-84ba-6bd5181d7bbd",
   "metadata": {},
   "outputs": [],
   "source": [
    "# The Langmuir model (1918)\n",
    "\n",
    "$$q_{eq}=\\frac{q_{L}K_{L}C_{eq}}{1 + K_{L}C_{eq}}$$\n",
    "\n",
    "where:\n",
    "\n",
    "- $q_{eq}$ is the adsorbate concentration in the solid phase at equilibrium;\n",
    "- $C_{eq}$ is the adsorbate concentration in the fluid phase at equilibrium;\n",
    "- $q_{L}$ is the maximum adsorption capacity of the monolayer;\n",
    "- $K_{L}$ is the model constant;"
   ]
  },
  {
   "cell_type": "markdown",
   "id": "fa584850-fc7c-4707-9e99-4bf65b66ba99",
   "metadata": {},
   "source": [
    "## Reference\n",
    "\n",
    "\n",
    "THE ADSORPTION OF GASES ON PLANE SURFACES OF GLASS, MICA AND PLATINUM. Irving Langmuir\n",
    "\n",
    "DOI: [10.1021/ja02242a004](https://doi.org/10.1021/ja02242a004)\n",
    "\n",
    "Journal of the American Chemical Society **1918** *40* (9), 1361-1403\n",
    "\n"
   ]
  }
 ],
 "metadata": {
  "kernelspec": {
   "display_name": "Python 3 (ipykernel)",
   "language": "python",
   "name": "python3"
  },
  "language_info": {
   "codemirror_mode": {
    "name": "ipython",
    "version": 3
   },
   "file_extension": ".py",
   "mimetype": "text/x-python",
   "name": "python",
   "nbconvert_exporter": "python",
   "pygments_lexer": "ipython3",
   "version": "3.9.10"
  }
 },
 "nbformat": 4,
 "nbformat_minor": 5
}
