{
 "cells": [
  {
   "cell_type": "markdown",
   "id": "68c8761a-9f26-4b3a-b132-8a6047197de8",
   "metadata": {},
   "source": [
    "# Desvio padrão populacional ( $\\sigma$ )\n",
    "\n",
    "$$\\sigma = \\sqrt{\\frac{1}{N} \\sum_{i=1}^{N} \\left(X_{i} - \\mu\\right)^{2}}$$\n",
    "\n",
    "onde:\n",
    "- $N$ é o tamanho da população;\n",
    "- $\\mu$ é a média da população;\n",
    "- $X_{i}$ é a i-ésima observação da população;"
   ]
  },
  {
   "cell_type": "markdown",
   "id": "3d676dc6-9302-4f12-a152-8afd1811d8c5",
   "metadata": {},
   "source": [
    "## Código"
   ]
  },
  {
   "cell_type": "code",
   "execution_count": null,
   "id": "b4ebcad1-69a7-44c8-84ba-6bd5181d7bbd",
   "metadata": {},
   "outputs": [],
   "source": [
    "# Desvio padrão populacional ( $\\sigma$ )\n",
    "\n",
    "$$\\sigma = \\sqrt{\\frac{1}{N} \\sum_{i=1}^{N} \\left(X_{i} - \\mu\\right)^{2}}$$\n",
    "\n",
    "onde:\n",
    "- $N$ é o tamanho da população;\n",
    "- $\\mu$ é a média da população;\n",
    "- $X_{i}$ é a i-ésima observação da população;"
   ]
  },
  {
   "cell_type": "markdown",
   "id": "80453c28-435e-4e9b-ba93-fa6ba776df83",
   "metadata": {},
   "source": [
    "# Desvio padrão populacional ( $\\sigma$ )\n",
    "\n",
    "$$\\sigma = \\sqrt{\\sigma^{2}} $$\n",
    "\n",
    "onde\n",
    "- $\\sigma^{2}$ é a variância populacional;"
   ]
  },
  {
   "cell_type": "code",
   "execution_count": null,
   "id": "5ca2032d-7d14-419d-b85a-0b84350a6166",
   "metadata": {},
   "outputs": [],
   "source": [
    "# Desvio padrão populacional ( $\\sigma$ )\n",
    "\n",
    "$$\\sigma = \\sqrt{\\sigma^{2}} $$\n",
    "\n",
    "onde\n",
    "- $\\sigma^{2}$ é a variância populacional;"
   ]
  }
 ],
 "metadata": {
  "kernelspec": {
   "display_name": "Python 3 (ipykernel)",
   "language": "python",
   "name": "python3"
  },
  "language_info": {
   "codemirror_mode": {
    "name": "ipython",
    "version": 3
   },
   "file_extension": ".py",
   "mimetype": "text/x-python",
   "name": "python",
   "nbconvert_exporter": "python",
   "pygments_lexer": "ipython3",
   "version": "3.9.10"
  }
 },
 "nbformat": 4,
 "nbformat_minor": 5
}
