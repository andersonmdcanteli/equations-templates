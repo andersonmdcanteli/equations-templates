{
 "cells": [
  {
   "cell_type": "markdown",
   "id": "79eee745-6afb-47fc-8efd-e2dd3e0e5e85",
   "metadata": {},
   "source": [
    "# Grubbs Three ( $G^{'''}$ )\n",
    "\n",
    "$$ G^{'''} = \\frac{(n-3) \\times s_{upper}^{2}}{(n-1) \\times s^{2}}$$\n",
    "\n",
    "- $x_{1}, x_{2}, ..., x_{n}$ são os valores da amostra ordenados de forma crescente;\n",
    "- $n$ é o número total de observações;\n",
    "- $s_{upper}^{2}$ é é a variância das observações excluindo as duas observações suspeitas ( $x_{n}$ e $x_{n-1}$ );\n",
    "- $s^{2}$ é a variância amostral;\n",
    "\n",
    "\n",
    "$$ G^{'''} = \\frac{(n-3) \\times s_{lower}^{2}}{(n-1) \\times s^{2}}$$\n",
    "\n",
    "- $x_{1}, x_{2}, ..., x_{n}$ são os valores da amostra ordenados de forma crescente;\n",
    "- $n$ é o número total de observações;\n",
    "- $s_{lower}^{2}$ é é a variância das observações excluindo as duas observações suspeitas ( $x_{1}$ e $x_{2}$ );\n",
    "- $s^{2}$ é a variância amostral;\n"
   ]
  },
  {
   "cell_type": "markdown",
   "id": "bc195c05-ef9c-4df3-ab1a-0b6955e268bd",
   "metadata": {},
   "source": [
    "## Código"
   ]
  },
  {
   "cell_type": "code",
   "execution_count": null,
   "id": "6e2205dd-8d62-4df2-8c35-aed794c7a903",
   "metadata": {},
   "outputs": [],
   "source": [
    "# Grubbs Three ( $G^{'''}$ )\n",
    "\n",
    "$$ G^{'''} = \\frac{(n-3) \\times s_{upper}^{2}}{(n-1) \\times s^{2}}$$\n",
    "\n",
    "- $x_{1}, x_{2}, ..., x_{n}$ são os valores da amostra ordenados de forma crescente;\n",
    "- $n$ é o número total de observações;\n",
    "- $s_{upper}^{2}$ é é a variância das observações excluindo as duas observações suspeitas ( $x_{n}$ e $x_{n-1}$ );\n",
    "- $s^{2}$ é a variância amostral;\n",
    "\n",
    "\n",
    "$$ G^{'''} = \\frac{(n-3) \\times s_{lower}^{2}}{(n-1) \\times s^{2}}$$\n",
    "\n",
    "- $x_{1}, x_{2}, ..., x_{n}$ são os valores da amostra ordenados de forma crescente;\n",
    "- $n$ é o número total de observações;\n",
    "- $s_{lower}^{2}$ é é a variância das observações excluindo as duas observações suspeitas ( $x_{1}$ e $x_{2}$ );\n",
    "- $s^{2}$ é a variância amostral;\n"
   ]
  }
 ],
 "metadata": {
  "kernelspec": {
   "display_name": "Python 3 (ipykernel)",
   "language": "python",
   "name": "python3"
  },
  "language_info": {
   "codemirror_mode": {
    "name": "ipython",
    "version": 3
   },
   "file_extension": ".py",
   "mimetype": "text/x-python",
   "name": "python",
   "nbconvert_exporter": "python",
   "pygments_lexer": "ipython3",
   "version": "3.9.10"
  }
 },
 "nbformat": 4,
 "nbformat_minor": 5
}
