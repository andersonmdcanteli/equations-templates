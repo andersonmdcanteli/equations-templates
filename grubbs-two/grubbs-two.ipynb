{
 "cells": [
  {
   "cell_type": "markdown",
   "id": "186924ab-641a-4961-949b-76f439da92f8",
   "metadata": {},
   "source": [
    "# Grubbs Two ( $G^{''}$ )\n",
    "\n",
    "$$ G^{''}=\\frac{x_{n} - x_{1}}{s}$$\n",
    "\n",
    "onde:\n",
    "- $x_{1}$ é a observação com menor valor;\n",
    "- $x_{n}$ é a observação com maior valor;\n",
    "- $s$ é o desvio padrão amostral;\n",
    "- $x_{1}, x_{2}, ..., x_{n}$ são os valores da amostra ordenados de forma crescente;"
   ]
  },
  {
   "cell_type": "markdown",
   "id": "d70626df-f1ca-4afd-9317-67ab21e13f04",
   "metadata": {},
   "source": [
    "## Código"
   ]
  },
  {
   "cell_type": "code",
   "execution_count": null,
   "id": "5c0d1728-99d4-46c2-954c-5113adf10ffd",
   "metadata": {},
   "outputs": [],
   "source": [
    "# Grubbs Two ( $G^{''}$ )\n",
    "\n",
    "$$ G^{''}=\\frac{x_{n} - x_{1}}{s}$$\n",
    "\n",
    "onde:\n",
    "- $x_{1}$ é a observação com menor valor;\n",
    "- $x_{n}$ é a observação com maior valor;\n",
    "- $s$ é o desvio padrão amostral;\n",
    "- $x_{1}, x_{2}, ..., x_{n}$ são os valores da amostra ordenados de forma crescente;"
   ]
  }
 ],
 "metadata": {
  "kernelspec": {
   "display_name": "Python 3 (ipykernel)",
   "language": "python",
   "name": "python3"
  },
  "language_info": {
   "codemirror_mode": {
    "name": "ipython",
    "version": 3
   },
   "file_extension": ".py",
   "mimetype": "text/x-python",
   "name": "python",
   "nbconvert_exporter": "python",
   "pygments_lexer": "ipython3",
   "version": "3.9.10"
  }
 },
 "nbformat": 4,
 "nbformat_minor": 5
}
