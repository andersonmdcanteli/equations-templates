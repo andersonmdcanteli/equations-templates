{
 "cells": [
  {
   "cell_type": "markdown",
   "id": "f7dad11a-4965-46d9-b6fc-19f581f48d27",
   "metadata": {},
   "source": [
    "# Tamanho amostral para o teste Z (bilateral) para comparar uma média com um valor esperado\n",
    "\n",
    "$$ n \\simeq \\frac{\\left(Z_{\\alpha/2} + Z_{\\beta} \\right)^{2}\\sigma^{2}}{\\delta^{2}}$$\n",
    "\n",
    "onde:\n",
    "* $n$ é o número mínimo de observações necessárias para manter $\\alpha$ e $\\beta$;\n",
    "* $Z_{\\alpha/2}$ é o valor crítico da distribuição Normal padrão bilateral;\n",
    "* $Z_{\\beta}$ é o valor crítico da distribuição Normal padrão unilateral;\n",
    "* $\\sigma^{2}$ é a variância da população;\n",
    "* $\\delta$ é o efeito esperado para o teste, que é definido como:\n",
    "\n",
    "$$\\delta = \\mu - \\mu_{0}$$\n",
    "\n",
    "onde:\n",
    "* $\\mu$ é a média da amostra a população;\n",
    "* $\\mu_{0}$ é um valor esperado/determinado;\n",
    "\n",
    "## Código"
   ]
  },
  {
   "cell_type": "code",
   "execution_count": null,
   "id": "76ff7f20-20f5-41a7-9feb-99ce0b72ccbb",
   "metadata": {},
   "outputs": [],
   "source": [
    "$$ n \\simeq \\frac{\\left(Z_{\\alpha/2} + Z_{\\beta} \\right)^{2}\\sigma^{2}}{\\delta^{2}}$$\n",
    "\n",
    "onde:\n",
    "* $n$ é o número mínimo de observações necessárias para manter $\\alpha$ e $\\beta$;\n",
    "* $Z_{\\alpha/2}$ é o valor crítico da distribuição Normal padrão bilateral;\n",
    "* $Z_{\\beta}$ é o valor crítico da distribuição Normal padrão unilateral;\n",
    "* $\\sigma^{2}$ é a variância da população;\n",
    "* $\\delta$ é o efeito esperado para o teste, que é definido como:\n",
    "\n",
    "$$\\delta = \\mu - \\mu_{0}$$\n",
    "\n",
    "onde:\n",
    "* $\\mu$ é a média da amostra a população;\n",
    "* $\\mu_{0}$ é um valor esperado/determinado;"
   ]
  }
 ],
 "metadata": {
  "kernelspec": {
   "display_name": "Python 3 (ipykernel)",
   "language": "python",
   "name": "python3"
  },
  "language_info": {
   "codemirror_mode": {
    "name": "ipython",
    "version": 3
   },
   "file_extension": ".py",
   "mimetype": "text/x-python",
   "name": "python",
   "nbconvert_exporter": "python",
   "pygments_lexer": "ipython3",
   "version": "3.9.10"
  }
 },
 "nbformat": 4,
 "nbformat_minor": 5
}
