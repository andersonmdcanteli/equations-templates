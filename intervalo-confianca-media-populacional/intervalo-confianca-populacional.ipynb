{
 "cells": [
  {
   "cell_type": "markdown",
   "id": "a5c605d2-7e46-4ce0-87cc-f9214ac42875",
   "metadata": {},
   "source": [
    "# Intervalo de confiança da média populacional ( $I.C.$ )\n",
    "\n",
    "$$ IC = \\frac{Z_{\\left(1-\\alpha/2 \\right)} \\sigma}{\\sqrt{N}} $$\n",
    "\n",
    "onde:\n",
    "- $N$ é o tamanho populacional;\n",
    "- $Z$ é o valor crítico da distribuição Normal bilateral;\n",
    "- $\\alpha$ é o nível de significância adotado;\n",
    "- $\\sigma$ é o desvio padrão da população;"
   ]
  },
  {
   "cell_type": "markdown",
   "id": "47688a18-725a-4fca-816e-f8626813f149",
   "metadata": {},
   "source": [
    "## Código"
   ]
  },
  {
   "cell_type": "code",
   "execution_count": null,
   "id": "a8f35d60-b326-4a3e-93fe-f07deee7a4fa",
   "metadata": {},
   "outputs": [],
   "source": [
    "# Intervalo de confiança da média populacional ( $I.C.$ )\n",
    "\n",
    "$$ IC = \\frac{Z_{\\left(1-\\alpha/2 \\right)} \\sigma}{\\sqrt{N}} $$\n",
    "\n",
    "onde:\n",
    "- $N$ é o tamanho populacional;\n",
    "- $Z$ é o valor crítico da distribuição Normal bilateral;\n",
    "- $\\alpha$ é o nível de significância adotado;\n",
    "- $\\sigma$ é o desvio padrão da população;"
   ]
  },
  {
   "cell_type": "markdown",
   "id": "8ba09d45-936e-48c0-a8b4-0e13b577aa3a",
   "metadata": {},
   "source": [
    "# Intervalo de confiança da média populacional ( $I.C.$ )\n",
    "\n",
    "$$ IC = \\frac{Z_{\\left(1-\\alpha/2 \\right)} \\sqrt{\\frac{1}{N} \\sum_{i=1}^{N} \\left(X_{i} - \\mu \\right)^{2}}}{\\sqrt{N}}$$\n",
    "\n",
    "onde:\n",
    "- $N$ é o tamanho populacional;\n",
    "- $Z$ é o valor crítico da distribuição Normal bilateral;\n",
    "- $\\alpha$ é o nível de significância adotado;\n",
    "- $\\mu$ é a média da população;\n",
    "- $X_{i}$ é a i-ésima observação da população;"
   ]
  },
  {
   "cell_type": "markdown",
   "id": "98662b85-8525-4376-8e98-823b71bd8c9a",
   "metadata": {},
   "source": [
    "## Código"
   ]
  },
  {
   "cell_type": "code",
   "execution_count": null,
   "id": "fb5657af-8f21-4361-9803-6b373de43f89",
   "metadata": {},
   "outputs": [],
   "source": [
    "# Intervalo de confiança da média populacional ( $I.C.$ )\n",
    "\n",
    "$$ IC = \\frac{Z_{\\left(1-\\alpha/2 \\right)} \\sqrt{\\frac{1}{N} \\sum_{i=1}^{N} \\left(X_{i} - \\mu \\right)^{2}}}{\\sqrt{N}}$$\n",
    "\n",
    "onde:\n",
    "- $N$ é o tamanho populacional;\n",
    "- $Z$ é o valor crítico da distribuição Normal bilateral;\n",
    "- $\\alpha$ é o nível de significância adotado;\n",
    "- $\\mu$ é a média da população;\n",
    "- $X_{i}$ é a i-ésima observação da população;"
   ]
  }
 ],
 "metadata": {
  "kernelspec": {
   "display_name": "Python 3 (ipykernel)",
   "language": "python",
   "name": "python3"
  },
  "language_info": {
   "codemirror_mode": {
    "name": "ipython",
    "version": 3
   },
   "file_extension": ".py",
   "mimetype": "text/x-python",
   "name": "python",
   "nbconvert_exporter": "python",
   "pygments_lexer": "ipython3",
   "version": "3.9.10"
  }
 },
 "nbformat": 4,
 "nbformat_minor": 5
}
