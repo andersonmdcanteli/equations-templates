{
 "cells": [
  {
   "cell_type": "markdown",
   "id": "341734b9-9f8a-493e-9306-f1fdd5015daa",
   "metadata": {},
   "source": [
    "# Grubbs One ( $G^{'}$ ) \n",
    "\n",
    "$$ G_{'} = \\frac{\\overline{x} - x_{1}}{s} $$\n",
    "\n",
    "onde:\n",
    "- $\\overline{x}$ é a média amostral;\n",
    "- $x_{1}$ é a observação com menor valor;\n",
    "- $s$ é o desvio padrão amostral;\n",
    "- $x_{1}, x_{2}, ..., x_{n}$ são os valores da amostra ordenados de forma crescente;\n",
    "\n",
    "$$ G_{'} = \\frac{x_{n} - \\overline{x} }{s} $$\n",
    "\n",
    "onde:\n",
    "- $\\overline{x}$ é a média amostral;\n",
    "- $x_{n}$ é a observação com maior valor;\n",
    "- $s$ é o desvio padrão amostral;\n",
    "- $x_{1}, x_{2}, ..., x_{n}$ são os valores da amostra ordenados de forma crescente;"
   ]
  },
  {
   "cell_type": "markdown",
   "id": "897ab7ae-5eb2-4efb-8a23-c1944da0db35",
   "metadata": {},
   "source": [
    "## Código"
   ]
  },
  {
   "cell_type": "code",
   "execution_count": null,
   "id": "a114cc97-878a-458b-b30d-d6fc3d78c438",
   "metadata": {},
   "outputs": [],
   "source": [
    "# Grubbs One ( $G^{'}$ ) \n",
    "\n",
    "$$ G_{'} = \\frac{\\overline{x} - x_{1}}{s} $$\n",
    "\n",
    "onde:\n",
    "- $\\overline{x}$ é a média amostral;\n",
    "- $x_{1}$ é a observação com menor valor;\n",
    "- $s$ é o desvio padrão amostral;\n",
    "- $x_{1}, x_{2}, ..., x_{n}$ são os valores da amostra ordenados de forma crescente;\n",
    "      \n",
    "\n",
    "$$ G_{'} = \\frac{x_{n} - \\overline{x} }{s} $$\n",
    "\n",
    "onde:\n",
    "- $\\overline{x}$ é a média amostral;\n",
    "- $x_{n}$ é a observação com maior valor;\n",
    "- $s$ é o desvio padrão amostral;\n",
    "- $x_{1}, x_{2}, ..., x_{n}$ são os valores da amostra ordenados de forma crescente;\n",
    "      "
   ]
  }
 ],
 "metadata": {
  "kernelspec": {
   "display_name": "Python 3 (ipykernel)",
   "language": "python",
   "name": "python3"
  },
  "language_info": {
   "codemirror_mode": {
    "name": "ipython",
    "version": 3
   },
   "file_extension": ".py",
   "mimetype": "text/x-python",
   "name": "python",
   "nbconvert_exporter": "python",
   "pygments_lexer": "ipython3",
   "version": "3.9.10"
  }
 },
 "nbformat": 4,
 "nbformat_minor": 5
}
