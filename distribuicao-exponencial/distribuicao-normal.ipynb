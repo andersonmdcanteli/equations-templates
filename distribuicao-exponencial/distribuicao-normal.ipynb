{
 "cells": [
  {
   "cell_type": "markdown",
   "id": "57dc253d-1374-4927-b2f8-4b30f581a93a",
   "metadata": {},
   "source": [
    "# Distribuição Normal\n",
    "\n",
    "$$f \\left( x \\right) = \\frac{1}{\\sigma \\sqrt{2 \\pi}} e^{-\\frac{1}{2} \\left(\\frac{x- \\mu}{\\sigma} \\right)^{2}}$$\n",
    "\n",
    "onde:\n",
    "- $\\mu$: é a média populacional;\n",
    "- $\\sigma$: é o desvio padrão populacional;"
   ]
  },
  {
   "cell_type": "markdown",
   "id": "f143f0c1-21cf-4fd7-aa20-0f8be59b6adc",
   "metadata": {},
   "source": [
    "## Código"
   ]
  },
  {
   "cell_type": "code",
   "execution_count": null,
   "id": "43314b84-20d6-4697-baad-071fe783144f",
   "metadata": {},
   "outputs": [],
   "source": [
    "# Distribuição Normal\n",
    "\n",
    "$$f \\left( x \\right) = \\frac{1}{\\sigma \\sqrt{2 \\pi}} e^{-\\frac{1}{2} \\left(\\frac{x- \\mu}{\\sigma} \\right)^{2}}$$\n",
    "\n",
    "onde:\n",
    "- $\\mu$: é a média populacional;\n",
    "- $\\sigma$: é o desvio padrão populacional;"
   ]
  },
  {
   "cell_type": "markdown",
   "id": "b73ca8dd-7cea-4e7f-908b-1c2235d4afeb",
   "metadata": {},
   "source": [
    "# Distribuição Normal - Outra forma\n",
    "\n",
    "$$f \\left( x \\right) = \\frac{e^{-\\frac{1}{2} \\left(\\frac{x- \\mu}{\\sigma} \\right)^{2}}}{\\sigma \\sqrt{2 \\pi}}$$\n",
    "\n",
    "onde:\n",
    "- $\\mu$: é a média populacional;\n",
    "- $\\sigma$: é o desvio padrão populacional;"
   ]
  },
  {
   "cell_type": "markdown",
   "id": "b444b2c7-f4eb-4d26-b7d7-ebb71b3c0c33",
   "metadata": {},
   "source": [
    "## Código"
   ]
  },
  {
   "cell_type": "code",
   "execution_count": null,
   "id": "3ba0b763-d29a-4513-84bf-f0267287a0d7",
   "metadata": {},
   "outputs": [],
   "source": [
    "# Distribuição Normal - Outra Forma\n",
    "\n",
    "$$f \\left( x \\right) = \\frac{e^{-\\frac{1}{2} \\left(\\frac{x- \\mu}{\\sigma} \\right)^{2}}}{\\sigma \\sqrt{2 \\pi}}$$\n",
    "\n",
    "onde:\n",
    "- $\\mu$: é a média populacional;\n",
    "- $\\sigma$: é o desvio padrão populacional;"
   ]
  },
  {
   "cell_type": "markdown",
   "id": "2431cda8-90a6-450d-8e86-4b0d0930546d",
   "metadata": {},
   "source": [
    "# Distribuição Normal Padrão\n",
    "\n",
    "$$f \\left( x \\right) = \\frac{1}{\\sqrt{2 \\pi}} e^{-\\frac{x^{2}}{2}}$$\n",
    "\n",
    "onde:\n",
    "- $\\mu = 0$: é a média populacional;\n",
    "- $\\sigma = 1$: é o desvio padrão populacional;"
   ]
  },
  {
   "cell_type": "markdown",
   "id": "4ff7b563-689d-481e-9abb-11a86d4bfb30",
   "metadata": {},
   "source": [
    "## Código"
   ]
  },
  {
   "cell_type": "code",
   "execution_count": null,
   "id": "f954a3e7-b908-4dda-99ea-230193b5f710",
   "metadata": {},
   "outputs": [],
   "source": [
    "# Distribuição Normal Padrão\n",
    "\n",
    "$$f \\left( x \\right) = \\frac{1}{\\sqrt{2 \\pi}} e^{-\\frac{x^{2}}{2}}$$\n",
    "\n",
    "onde:\n",
    "- $\\mu = 0$: é a média populacional;\n",
    "- $\\sigma = 1$: é o desvio padrão populacional;"
   ]
  },
  {
   "cell_type": "markdown",
   "id": "b8635400-3ac1-4620-88b3-5e78dfd50c10",
   "metadata": {},
   "source": [
    "# Distribuição Normal Padrão - Outra forma\n",
    "\n",
    "$$f \\left( x \\right) = \\frac{e^{-\\frac{x^{2}}{2}}}{\\sqrt{2 \\pi}}$$\n",
    "\n",
    "onde:\n",
    "- $\\mu = 0$: é a média populacional;\n",
    "- $\\sigma = 1$: é o desvio padrão populacional;"
   ]
  },
  {
   "cell_type": "markdown",
   "id": "9eac41ae-1a5d-4870-a17f-e4f02bef4b28",
   "metadata": {},
   "source": [
    "## Código"
   ]
  },
  {
   "cell_type": "code",
   "execution_count": null,
   "id": "ca69a9aa-4f6a-4ba4-9af5-ba2c610cb95e",
   "metadata": {},
   "outputs": [],
   "source": [
    "# Distribuição Normal Padrão - Outra forma\n",
    "\n",
    "$$f \\left( x \\right) = \\frac{e^{-\\frac{x^{2}}{2}}}{\\sqrt{2 \\pi}}$$\n",
    "\n",
    "onde:\n",
    "- $\\mu = 0$: é a média populacional;\n",
    "- $\\sigma = 1$: é o desvio padrão populacional;"
   ]
  },
  {
   "cell_type": "markdown",
   "id": "d05f5ded-580b-47a4-b1da-ccd4642acac3",
   "metadata": {},
   "source": [
    "Fonte:\n",
    "\n",
    "https://www.itl.nist.gov/div898/handbook/eda/section3/eda3661.htm"
   ]
  }
 ],
 "metadata": {
  "kernelspec": {
   "display_name": "Python 3 (ipykernel)",
   "language": "python",
   "name": "python3"
  },
  "language_info": {
   "codemirror_mode": {
    "name": "ipython",
    "version": 3
   },
   "file_extension": ".py",
   "mimetype": "text/x-python",
   "name": "python",
   "nbconvert_exporter": "python",
   "pygments_lexer": "ipython3",
   "version": "3.9.10"
  }
 },
 "nbformat": 4,
 "nbformat_minor": 5
}
