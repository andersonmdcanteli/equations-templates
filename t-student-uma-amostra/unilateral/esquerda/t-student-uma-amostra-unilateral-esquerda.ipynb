{
 "cells": [
  {
   "cell_type": "markdown",
   "id": "d4ea7529-66e1-44e6-bfd5-3c44cdc73d44",
   "metadata": {},
   "source": [
    "# Teste t de Student unilateral à esquerda para comparar uma amostra (distribuição Normal e variância desconhecida) com um valor esperado/conhecido \n",
    "\n",
    "## Estatística do teste ( $t_{0}$ )\n",
    "\n",
    "$$t_{0} = \\frac{\\left(\\overline{x} - \\mu_{0}\\right)\\sqrt{n}}{s_{x}}$$\n",
    "\n",
    "onde:\n",
    "- $\\overline{x}$ é a média amostral;\n",
    "- $\\mu_{0}$ é o valor esperado para a amostra;\n",
    "- $n$ é o tamanho da amostra;\n",
    "- $s_{x}$ é o desvio padrão amostral;\n",
    "\n",
    "### Código"
   ]
  },
  {
   "cell_type": "code",
   "execution_count": null,
   "id": "c700089c-53f4-43e0-9fc5-bf0498dccd7f",
   "metadata": {},
   "outputs": [],
   "source": [
    "## Estatística do teste ( $t_{0}$ )\n",
    "\n",
    "$$t_{0} = \\frac{\\left(\\overline{x} - \\mu_{0}\\right)\\sqrt{n}}{s_{x}}$$\n",
    "\n",
    "onde:\n",
    "- $\\overline{x}$ é a média amostral;\n",
    "- $\\mu_{0}$ é o valor esperado para a amostra;\n",
    "- $n$ é o tamanho da amostra;\n",
    "- $s_{x}$ é o desvio padrão amostral;"
   ]
  },
  {
   "cell_type": "markdown",
   "id": "a7ee0c3d-8bb4-41b8-a0fe-81d0898dca7c",
   "metadata": {},
   "source": [
    "## Hipóteses\n",
    "\n",
    "$$\\begin{cases}H_{0}: & \\mu = \\mu_{0}\\\\H_{1}: & \\mu < \\mu_{0}\\end{cases}$$\n",
    "\n",
    "onde:\n",
    "- $H_{0}$ é a hipótese nula;\n",
    "- $H_{1}$ é a hipótese alternativa;\n",
    "- $\\mu$ é a média amostral;\n",
    "- $\\mu_{0}$ é o valor esperado para a amostra;\n",
    "\n",
    "### Código"
   ]
  },
  {
   "cell_type": "code",
   "execution_count": null,
   "id": "7cdb5014-6292-4264-a88d-493af6386dbb",
   "metadata": {},
   "outputs": [],
   "source": [
    "## Hipóteses\n",
    "\n",
    "$$\\begin{cases}H_{0}: & \\mu = \\mu_{0}\\\\H_{1}: & \\mu < \\mu_{0}\\end{cases}$$\n",
    "\n",
    "onde:\n",
    "- $H_{0}$ é a hipótese nula;\n",
    "- $H_{1}$ é a hipótese alternativa;\n",
    "- $\\mu$ é a média amostral;\n",
    "- $\\mu_{0}$ é o valor esperado para a amostra;\n"
   ]
  },
  {
   "cell_type": "markdown",
   "id": "a1c48fe4-cade-428b-a875-1fcb9418ffb8",
   "metadata": {},
   "source": [
    "## Valor crítico ( $t_{critico}$ )\n",
    "\n",
    "$$t_{critico}=t_{\\alpha;n-1}$$\n",
    "\n",
    "onde:\n",
    "- $\\alpha$ é o nível de significância do teste;\n",
    "- $n$ é o tamanho da amostra;\n",
    "\n",
    "### Código"
   ]
  },
  {
   "cell_type": "code",
   "execution_count": null,
   "id": "0534b66c-8acc-49f1-955c-c161608dcdcd",
   "metadata": {},
   "outputs": [],
   "source": [
    "## Valor crítico ( $t_{critico}$ )\n",
    "\n",
    "$$t_{critico}=t_{\\alpha;n-1}$$\n",
    "\n",
    "onde:\n",
    "- $\\alpha$ é o nível de significância do teste;\n",
    "- $n$ é o tamanho da amostra;"
   ]
  },
  {
   "cell_type": "markdown",
   "id": "d713a591-62e0-43f9-95db-23e7b7904c9e",
   "metadata": {},
   "source": [
    "## Probabilidade ( $p-valor$ )\n",
    "\n",
    "$$p-valor=P(T_{n-1}>|t_{0}|)$$\n",
    "\n",
    "onde:\n",
    "- $T_{n-1}$ é a distribuição t de Student com $n-1$ graus de liberdade;\n",
    "- $t_{0}$ é a estatística do teste;\n",
    "- $P$ é a função de probabilidade da distribuição t de Student;\n",
    "\n",
    "### Código"
   ]
  },
  {
   "cell_type": "code",
   "execution_count": null,
   "id": "a013411a-6d97-45d1-b062-e3fa58b9386d",
   "metadata": {},
   "outputs": [],
   "source": [
    "## Probabilidade ( $p-valor$ )\n",
    "\n",
    "$$p-valor=P(T_{n-1}>|t_{0}|)$$\n",
    "\n",
    "onde:\n",
    "- $T_{n-1}$ é a distribuição t de Student com $n-1$ graus de liberdade;\n",
    "- $t_{0}$ é a estatística do teste;\n",
    "- $P$ é a função de probabilidade da distribuição t de Student;"
   ]
  },
  {
   "cell_type": "markdown",
   "id": "a4726dd2-1062-4db9-9757-6bb60e9f5563",
   "metadata": {},
   "source": [
    "## Conclusão do teste\n",
    "\n",
    "### Comparando o valor crítico ($t_{critico}$) com a estatística do teste ($t_{0}$)\n",
    "\n",
    "- Se $|t_{0}| > |t_{critico}|$, rejeitamos a hipótese nula ($\\mu < \\mu_{0}$);\n",
    "- Se $|t_{0}| \\leq |t_{critico}|$, falhamos em rejeitar a hipótese nula ($\\mu = \\mu_{0}$)\n",
    "\n",
    "#### Código"
   ]
  },
  {
   "cell_type": "code",
   "execution_count": null,
   "id": "ec2170bb-0fd4-47d7-9d93-433fc9d6025c",
   "metadata": {},
   "outputs": [],
   "source": [
    "### Comparando o valor crítico ($t_{critico}$) com a estatística do teste ($t_{0}$)\n",
    "\n",
    "- Se $|t_{0}| > |t_{critico}|$, rejeitamos a hipótese nula ($\\mu < \\mu_{0}$);\n",
    "- Se $|t_{0}| \\leq |t_{critico}|$, falhamos em rejeitar a hipótese nula ($\\mu = \\mu_{0}$)"
   ]
  },
  {
   "cell_type": "markdown",
   "id": "50c7af37-54e0-4b96-8919-9ab923b0a3c1",
   "metadata": {},
   "source": [
    "### Comparando a probabilidade ($p-valor$) com o nível de significância adotado ($\\alpha$)\n",
    "\n",
    "- Se $p-valor < \\alpha$, rejeitamos a hipótese nula ($\\mu < \\mu_{0}$);\n",
    "- Se $p-valor \\geq \\alpha$, falhamos em rejeitar a hipótese nula ($\\mu = \\mu_{0}$)\n",
    "\n",
    "#### Código"
   ]
  },
  {
   "cell_type": "code",
   "execution_count": null,
   "id": "f3b67827-5745-40a9-9970-63638df5d1cb",
   "metadata": {},
   "outputs": [],
   "source": [
    "### Comparando a probabilidade ($p-valor$) com o nível de significância adotado ($\\alpha$)\n",
    "\n",
    "- Se $p-valor < \\alpha$, rejeitamos a hipótese nula ($\\mu < \\mu_{0}$);\n",
    "- Se $p-valor \\geq \\alpha$, falhamos em rejeitar a hipótese nula ($\\mu = \\mu_{0}$)"
   ]
  },
  {
   "cell_type": "markdown",
   "id": "d983586a-4b35-4e4a-8e15-233caca7a371",
   "metadata": {},
   "source": [
    "## Referência\n",
    "\n",
    "STUDENT. The Probable Error of a Mean. Biometrika, v. 6, n. 1, p. 1, mar. 1908. DOI: [10.2307/2331554](https://doi.org/10.2307/2331554)."
   ]
  }
 ],
 "metadata": {
  "kernelspec": {
   "display_name": "Python 3 (ipykernel)",
   "language": "python",
   "name": "python3"
  },
  "language_info": {
   "codemirror_mode": {
    "name": "ipython",
    "version": 3
   },
   "file_extension": ".py",
   "mimetype": "text/x-python",
   "name": "python",
   "nbconvert_exporter": "python",
   "pygments_lexer": "ipython3",
   "version": "3.9.10"
  }
 },
 "nbformat": 4,
 "nbformat_minor": 5
}
