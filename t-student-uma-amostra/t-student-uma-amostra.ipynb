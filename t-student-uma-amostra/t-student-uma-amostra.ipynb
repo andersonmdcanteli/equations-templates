{
 "cells": [
  {
   "cell_type": "markdown",
   "id": "d4ea7529-66e1-44e6-bfd5-3c44cdc73d44",
   "metadata": {},
   "source": [
    "# t de Student para uma amostra ( $t_{calc} $ )\n",
    "\n",
    "$$t_{calc} = \\frac{|\\overline{x} - \\mu_{0}|}{\\frac{s_{x}}{\\sqrt{n}}}$$\n",
    "\n",
    "onde:\n",
    "- $\\overline{x}$ é a média amostral;\n",
    "- $\\mu_{0}$ é o valor esperado para a amostra;\n",
    "- $n$ é o tamanho da amostra;\n",
    "- $s_{x}$ é o desvio padrão amostral;\n"
   ]
  },
  {
   "cell_type": "markdown",
   "id": "8fc02989-aa05-4f39-a881-34c6ab61e05f",
   "metadata": {},
   "source": [
    "## Código"
   ]
  },
  {
   "cell_type": "code",
   "execution_count": null,
   "id": "c700089c-53f4-43e0-9fc5-bf0498dccd7f",
   "metadata": {},
   "outputs": [],
   "source": [
    "# t de Student para uma amostra ( $t_{calc} $ )\n",
    "\n",
    "$$t_{calc} = \\frac{|\\overline{x} - \\mu_{0}|}{\\frac{s_{x}}{\\sqrt{n}}}$$\n",
    "\n",
    "onde:\n",
    "- $\\overline{x}$ é a média amostral;\n",
    "- $\\mu_{0}$ é o valor esperado para a amostra;\n",
    "- $n$ é o tamanho da amostra;\n",
    "- $s_{x}$ é o desvio padrão amostral;"
   ]
  },
  {
   "cell_type": "markdown",
   "id": "d2020b63-2546-40d3-8891-a32559a06a8a",
   "metadata": {},
   "source": [
    "# t de Student para uma amostra ( $t_{calc} $ )\n",
    "\n",
    "$$t_{calc} = \\frac{\\overline{x} - \\mu_{0}}{\\frac{s_{x}}{\\sqrt{n}}}$$\n",
    "\n",
    "onde:\n",
    "- $\\overline{x}$ é a média amostral;\n",
    "- $\\mu_{0}$ é o valor esperado para a amostra;\n",
    "- $n$ é o tamanho da amostra;\n",
    "- $s_{x}$ é o desvio padrão amostral;"
   ]
  },
  {
   "cell_type": "markdown",
   "id": "d983586a-4b35-4e4a-8e15-233caca7a371",
   "metadata": {},
   "source": [
    "## Código"
   ]
  },
  {
   "cell_type": "code",
   "execution_count": null,
   "id": "9aa459a7-e49a-4f1e-a545-64af5bbad119",
   "metadata": {},
   "outputs": [],
   "source": [
    "# t de Student para uma amostra ( $t_{calc} $ )\n",
    "\n",
    "$$t_{calc} = \\frac{\\overline{x} - \\mu_{0}}{\\frac{s_{x}}{\\sqrt{n}}}$$\n",
    "\n",
    "onde:\n",
    "- $\\overline{x}$ é a média amostral;\n",
    "- $\\mu_{0}$ é o valor esperado para a amostra;\n",
    "- $n$ é o tamanho da amostra;\n",
    "- $s_{x}$ é o desvio padrão amostral;"
   ]
  },
  {
   "cell_type": "markdown",
   "id": "256bb312-4759-4e79-96bd-d57294b4ae34",
   "metadata": {},
   "source": [
    "# t de Student para uma amostra ( $t_{calc} $ )\n",
    "\n",
    "$$t_{calc} = \\frac{(\\overline{x} - \\mu_{0})\\sqrt{n}}{s_{x}}$$\n",
    "\n",
    "onde:\n",
    "- $\\overline{x}$ é a média amostral;\n",
    "- $\\mu_{0}$ é o valor esperado para a amostra;\n",
    "- $n$ é o tamanho da amostra;\n",
    "- $s_{x}$ é o desvio padrão amostral;"
   ]
  },
  {
   "cell_type": "markdown",
   "id": "180289ea-fd7b-4192-a432-13b6f428605f",
   "metadata": {},
   "source": [
    "## Código"
   ]
  },
  {
   "cell_type": "code",
   "execution_count": null,
   "id": "e3d7b691-233f-46f8-8054-2b4dd6504845",
   "metadata": {},
   "outputs": [],
   "source": [
    "# t de Student para uma amostra ( $t_{calc} $ )\n",
    "\n",
    "$$t_{calc} = \\frac{(\\overline{x} - \\mu_{0})\\sqrt{n}}{s_{x}}$$\n",
    "\n",
    "onde:\n",
    "- $\\overline{x}$ é a média amostral;\n",
    "- $\\mu_{0}$ é o valor esperado para a amostra;\n",
    "- $n$ é o tamanho da amostra;\n",
    "- $s_{x}$ é o desvio padrão amostral;"
   ]
  },
  {
   "cell_type": "markdown",
   "id": "35334f69-d992-4393-b727-b87dd47882d6",
   "metadata": {},
   "source": [
    "# t de Student para uma amostra ( $t_{calc} $ )\n",
    "\n",
    "$$t_{calc} = \\frac{|\\overline{x} - \\mu_{0}|\\sqrt{n}}{s_{x}}$$\n",
    "\n",
    "onde:\n",
    "- $\\overline{x}$ é a média amostral;\n",
    "- $\\mu_{0}$ é o valor esperado para a amostra;\n",
    "- $n$ é o tamanho da amostra;\n",
    "- $s_{x}$ é o desvio padrão amostral;"
   ]
  },
  {
   "cell_type": "markdown",
   "id": "4c93f90e-a625-48b3-acb8-35b91dc0e992",
   "metadata": {},
   "source": [
    "## Código"
   ]
  },
  {
   "cell_type": "code",
   "execution_count": null,
   "id": "e4414b6b-1ceb-45bb-98bc-5b3661fb3b5c",
   "metadata": {},
   "outputs": [],
   "source": [
    "# t de Student para uma amostra ( $t_{calc} $ )\n",
    "\n",
    "$$t_{calc} = \\frac{|\\overline{x} - \\mu_{0}|\\sqrt{n}}{s_{x}}$$\n",
    "\n",
    "onde:\n",
    "- $\\overline{x}$ é a média amostral;\n",
    "- $\\mu_{0}$ é o valor esperado para a amostra;\n",
    "- $n$ é o tamanho da amostra;\n",
    "- $s_{x}$ é o desvio padrão amostral;"
   ]
  }
 ],
 "metadata": {
  "kernelspec": {
   "display_name": "Python 3 (ipykernel)",
   "language": "python",
   "name": "python3"
  },
  "language_info": {
   "codemirror_mode": {
    "name": "ipython",
    "version": 3
   },
   "file_extension": ".py",
   "mimetype": "text/x-python",
   "name": "python",
   "nbconvert_exporter": "python",
   "pygments_lexer": "ipython3",
   "version": "3.9.10"
  }
 },
 "nbformat": 4,
 "nbformat_minor": 5
}
