{
 "cells": [
  {
   "cell_type": "markdown",
   "id": "a0f72ab9-ddbc-4f5a-87db-ed88cb7245d0",
   "metadata": {},
   "source": [
    "# t de Student pareado ( $t_{calc}$ )\n",
    "\n",
    "$$t_{calc} = \\frac{|\\overline{d}| - \\mu_0}{\\frac{s_{d}}{\\sqrt{n}}}$$\n",
    "\n",
    "onde:\n",
    "- $\\overline{d}$ é a média da amostra transformada;\n",
    "- $\\mu_{0}$ é o valor esperado para a amostra;\n",
    "- $n$ é o tamanho da amostra;\n",
    "- $s_{x}$ é o desvio padrão da amostra transformada;"
   ]
  },
  {
   "cell_type": "markdown",
   "id": "b0d02d33-fc02-4520-a082-8b3e57055c54",
   "metadata": {},
   "source": [
    "## Código"
   ]
  },
  {
   "cell_type": "code",
   "execution_count": null,
   "id": "f0c8d345-87b9-4889-860f-4016f9d9b1f9",
   "metadata": {},
   "outputs": [],
   "source": [
    "# t de Student pareado ( $t_{calc}$ )\n",
    "\n",
    "$$t_{calc} = \\frac{|\\overline{d}| - \\mu_0}{\\frac{s_{d}}{\\sqrt{n}}}$$\n",
    "\n",
    "onde:\n",
    "- $\\overline{d}$ é a média da amostra transformada;\n",
    "- $\\mu_{0}$ é o valor esperado para a amostra;\n",
    "- $n$ é o tamanho da amostra;\n",
    "- $s_{x}$ é o desvio padrão da amostra transformada;"
   ]
  },
  {
   "cell_type": "markdown",
   "id": "077ca2bf-4944-4e3d-a598-52119f12577a",
   "metadata": {
    "tags": []
   },
   "source": [
    "# t de Student pareado ( $t_{calc}$ )\n",
    "\n",
    "$$t_{calc} = \\frac{|\\overline{x_{1}} - \\overline{x_{2}}| - \\mu_0}{\\frac{s_{d}}{\\sqrt{n}}}$$\n",
    "\n",
    "onde:\n",
    "- $\\overline{x_{1}}$ é a média da amostra 1;\n",
    "- $\\overline{x_{2}}$ é a média da amostra 2;\n",
    "- $\\mu_{0}$ é o valor esperado para a amostra;\n",
    "- $n$ é o tamanho da amostra;\n",
    "- $s_{x}$ é o desvio padrão da amostra transformada ( $x_{1,i} - x_{2,i}$ );"
   ]
  },
  {
   "cell_type": "markdown",
   "id": "a0e508c4-d5c4-4e68-8c36-d022ce4dec2d",
   "metadata": {
    "tags": []
   },
   "source": [
    "## Código"
   ]
  },
  {
   "cell_type": "code",
   "execution_count": null,
   "id": "7d7d5b2f-1c93-4e41-b647-c648a1345163",
   "metadata": {},
   "outputs": [],
   "source": [
    "# t de Student pareado ( $t_{calc}$ )\n",
    "\n",
    "$$t_{calc} = \\frac{|\\overline{x_{1}} - \\overline{x_{2}}| - \\mu_0}{\\frac{s_{d}}{\\sqrt{n}}}$$\n",
    "\n",
    "onde:\n",
    "- $\\overline{x_{1}}$ é a média da amostra 1;\n",
    "- $\\overline{x_{2}}$ é a média da amostra 2;\n",
    "- $\\mu_{0}$ é o valor esperado para a amostra;\n",
    "- $n$ é o tamanho da amostra;\n",
    "- $s_{x}$ é o desvio padrão da amostra transformada ( $x_{1,i} - x_{2,i}$ );"
   ]
  },
  {
   "cell_type": "markdown",
   "id": "a86e0aae-18ce-4ce9-8518-8014143e4056",
   "metadata": {},
   "source": [
    "# t de Student pareado ( $t_{calc}$ )\n",
    "\n",
    "$$t_{calc} = \\frac{\\overline{x_{1}} - \\overline{x_{2}}}{\\frac{s_{d}}{\\sqrt{n}}}$$\n",
    "\n",
    "onde:\n",
    "- $\\overline{x_{1}}$ é a média da amostra 1;\n",
    "- $\\overline{x_{2}}$ é a média da amostra 2;\n",
    "- $n$ é o tamanho da amostra;\n",
    "- $s_{x}$ é o desvio padrão da amostra transformada ( $x_{1,i} - x_{2,i}$ ) ;"
   ]
  },
  {
   "cell_type": "markdown",
   "id": "99da923f-759b-411d-b683-e0abac90c65b",
   "metadata": {},
   "source": [
    "## Código"
   ]
  },
  {
   "cell_type": "code",
   "execution_count": null,
   "id": "83dc0bae-3334-46b5-9af3-ca2f0b867151",
   "metadata": {},
   "outputs": [],
   "source": [
    "# t de Student pareado ( $t_{calc}$ )\n",
    "\n",
    "$$t_{calc} = \\frac{\\overline{x_{1}} - \\overline{x_{2}}}{\\frac{s_{d}}{\\sqrt{n}}}$$\n",
    "\n",
    "onde:\n",
    "- $\\overline{x_{1}}$ é a média da amostra 1;\n",
    "- $\\overline{x_{2}}$ é a média da amostra 2;\n",
    "- $n$ é o tamanho da amostra;\n",
    "- $s_{x}$ é o desvio padrão da amostra transformada ( $x_{1,i} - x_{2,i}$ );"
   ]
  },
  {
   "cell_type": "markdown",
   "id": "1dd0b80b-84ed-4953-8a0f-d353a9088051",
   "metadata": {},
   "source": [
    "# t de Student pareado ( $t_{calc}$ )\n",
    "\n",
    "$$t_{calc} = \\frac{\\left( \\overline{x_{1}} - \\overline{x_{2}}\\right)\\sqrt{n}}{s_{d}}$$\n",
    "\n",
    "onde:\n",
    "- $\\overline{x_{1}}$ é a média da amostra 1;\n",
    "- $\\overline{x_{2}}$ é a média da amostra 2;\n",
    "- $n$ é o tamanho da amostra;\n",
    "- $s_{x}$ é o desvio padrão da amostra transformada ( $x_{1,i} - x_{2,i}$ );"
   ]
  },
  {
   "cell_type": "markdown",
   "id": "a367d536-53a1-4737-8886-3fd206c3cf0d",
   "metadata": {},
   "source": [
    "## Código"
   ]
  },
  {
   "cell_type": "code",
   "execution_count": null,
   "id": "90a5494a-69dc-4f28-9159-8e7b2dc1d575",
   "metadata": {},
   "outputs": [],
   "source": [
    "# t de Student pareado ( $t_{calc}$ )\n",
    "\n",
    "$$t_{calc} = \\frac{\\left( \\overline{x_{1}} - \\overline{x_{2}}\\right)\\sqrt{n}}{s_{d}}$$\n",
    "\n",
    "onde:\n",
    "- $\\overline{x_{1}}$ é a média da amostra 1;\n",
    "- $\\overline{x_{2}}$ é a média da amostra 2;\n",
    "- $n$ é o tamanho da amostra;\n",
    "- $s_{x}$ é o desvio padrão da amostra transformada ( $x_{1,i} - x_{2,i}$ );"
   ]
  },
  {
   "cell_type": "markdown",
   "id": "8b298776-36a8-43d7-891f-1bbbfc26b0d7",
   "metadata": {},
   "source": [
    "# t de Student pareado ( $t_{calc}$ )\n",
    "\n",
    "$$t_{calc} = \\frac{|\\overline{x_{1}} - \\overline{x_{2}}|\\sqrt{n}}{s_{d}}$$\n",
    "\n",
    "onde:\n",
    "- $\\overline{x_{1}}$ é a média da amostra 1;\n",
    "- $\\overline{x_{2}}$ é a média da amostra 2;\n",
    "- $n$ é o tamanho da amostra;\n",
    "- $s_{x}$ é o desvio padrão da amostra transformada ( $x_{1,i} - x_{2,i}$ );"
   ]
  },
  {
   "cell_type": "markdown",
   "id": "35d0049e-0014-4756-929d-e2ec7a836268",
   "metadata": {
    "tags": []
   },
   "source": [
    "## Código"
   ]
  },
  {
   "cell_type": "code",
   "execution_count": null,
   "id": "d690f057-21a4-48ab-834a-e9ad8cc594d7",
   "metadata": {},
   "outputs": [],
   "source": [
    "# t de Student pareado ( $t_{calc}$ )\n",
    "\n",
    "$$t_{calc} = \\frac{|\\overline{x_{1}} - \\overline{x_{2}}|\\sqrt{n}}{s_{d}}$$\n",
    "\n",
    "onde:\n",
    "- $\\overline{x_{1}}$ é a média da amostra 1;\n",
    "- $\\overline{x_{2}}$ é a média da amostra 2;\n",
    "- $n$ é o tamanho da amostra;\n",
    "- $s_{x}$ é o desvio padrão da amostra transformada ( $x_{1,i} - x_{2,i}$ );"
   ]
  }
 ],
 "metadata": {
  "kernelspec": {
   "display_name": "Python 3 (ipykernel)",
   "language": "python",
   "name": "python3"
  },
  "language_info": {
   "codemirror_mode": {
    "name": "ipython",
    "version": 3
   },
   "file_extension": ".py",
   "mimetype": "text/x-python",
   "name": "python",
   "nbconvert_exporter": "python",
   "pygments_lexer": "ipython3",
   "version": "3.9.10"
  }
 },
 "nbformat": 4,
 "nbformat_minor": 5
}
